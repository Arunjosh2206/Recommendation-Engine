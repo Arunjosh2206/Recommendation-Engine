{
 "cells": [
  {
   "cell_type": "code",
   "execution_count": 204,
   "id": "b17e9b99",
   "metadata": {},
   "outputs": [],
   "source": [
    "import pandas as pd\n",
    "import numpy as np\n",
    "import seaborn as sns\n",
    "import matplotlib.pyplot as plt\n",
    "import warnings\n",
    "warnings.filterwarnings('ignore')"
   ]
  },
  {
   "cell_type": "code",
   "execution_count": 205,
   "id": "de9362e8",
   "metadata": {},
   "outputs": [],
   "source": [
    "df=pd.read_csv('googleplaystore.csv')"
   ]
  },
  {
   "cell_type": "code",
   "execution_count": 206,
   "id": "0f3286de",
   "metadata": {},
   "outputs": [
    {
     "data": {
      "text/html": [
       "<div>\n",
       "<style scoped>\n",
       "    .dataframe tbody tr th:only-of-type {\n",
       "        vertical-align: middle;\n",
       "    }\n",
       "\n",
       "    .dataframe tbody tr th {\n",
       "        vertical-align: top;\n",
       "    }\n",
       "\n",
       "    .dataframe thead th {\n",
       "        text-align: right;\n",
       "    }\n",
       "</style>\n",
       "<table border=\"1\" class=\"dataframe\">\n",
       "  <thead>\n",
       "    <tr style=\"text-align: right;\">\n",
       "      <th></th>\n",
       "      <th>App</th>\n",
       "      <th>Category</th>\n",
       "      <th>Rating</th>\n",
       "      <th>Reviews</th>\n",
       "      <th>Size</th>\n",
       "      <th>Installs</th>\n",
       "      <th>Type</th>\n",
       "      <th>Price</th>\n",
       "      <th>Content Rating</th>\n",
       "      <th>Genres</th>\n",
       "      <th>Last Updated</th>\n",
       "      <th>Current Ver</th>\n",
       "      <th>Android Ver</th>\n",
       "    </tr>\n",
       "  </thead>\n",
       "  <tbody>\n",
       "    <tr>\n",
       "      <th>0</th>\n",
       "      <td>Photo Editor &amp; Candy Camera &amp; Grid &amp; ScrapBook</td>\n",
       "      <td>ART_AND_DESIGN</td>\n",
       "      <td>4.1</td>\n",
       "      <td>159</td>\n",
       "      <td>19M</td>\n",
       "      <td>10,000+</td>\n",
       "      <td>Free</td>\n",
       "      <td>0</td>\n",
       "      <td>Everyone</td>\n",
       "      <td>Art &amp; Design</td>\n",
       "      <td>January 7, 2018</td>\n",
       "      <td>1.0.0</td>\n",
       "      <td>4.0.3 and up</td>\n",
       "    </tr>\n",
       "    <tr>\n",
       "      <th>1</th>\n",
       "      <td>Coloring book moana</td>\n",
       "      <td>ART_AND_DESIGN</td>\n",
       "      <td>3.9</td>\n",
       "      <td>967</td>\n",
       "      <td>14M</td>\n",
       "      <td>500,000+</td>\n",
       "      <td>Free</td>\n",
       "      <td>0</td>\n",
       "      <td>Everyone</td>\n",
       "      <td>Art &amp; Design;Pretend Play</td>\n",
       "      <td>January 15, 2018</td>\n",
       "      <td>2.0.0</td>\n",
       "      <td>4.0.3 and up</td>\n",
       "    </tr>\n",
       "    <tr>\n",
       "      <th>2</th>\n",
       "      <td>U Launcher Lite – FREE Live Cool Themes, Hide ...</td>\n",
       "      <td>ART_AND_DESIGN</td>\n",
       "      <td>4.7</td>\n",
       "      <td>87510</td>\n",
       "      <td>8.7M</td>\n",
       "      <td>5,000,000+</td>\n",
       "      <td>Free</td>\n",
       "      <td>0</td>\n",
       "      <td>Everyone</td>\n",
       "      <td>Art &amp; Design</td>\n",
       "      <td>August 1, 2018</td>\n",
       "      <td>1.2.4</td>\n",
       "      <td>4.0.3 and up</td>\n",
       "    </tr>\n",
       "    <tr>\n",
       "      <th>3</th>\n",
       "      <td>Sketch - Draw &amp; Paint</td>\n",
       "      <td>ART_AND_DESIGN</td>\n",
       "      <td>4.5</td>\n",
       "      <td>215644</td>\n",
       "      <td>25M</td>\n",
       "      <td>50,000,000+</td>\n",
       "      <td>Free</td>\n",
       "      <td>0</td>\n",
       "      <td>Teen</td>\n",
       "      <td>Art &amp; Design</td>\n",
       "      <td>June 8, 2018</td>\n",
       "      <td>Varies with device</td>\n",
       "      <td>4.2 and up</td>\n",
       "    </tr>\n",
       "    <tr>\n",
       "      <th>4</th>\n",
       "      <td>Pixel Draw - Number Art Coloring Book</td>\n",
       "      <td>ART_AND_DESIGN</td>\n",
       "      <td>4.3</td>\n",
       "      <td>967</td>\n",
       "      <td>2.8M</td>\n",
       "      <td>100,000+</td>\n",
       "      <td>Free</td>\n",
       "      <td>0</td>\n",
       "      <td>Everyone</td>\n",
       "      <td>Art &amp; Design;Creativity</td>\n",
       "      <td>June 20, 2018</td>\n",
       "      <td>1.1</td>\n",
       "      <td>4.4 and up</td>\n",
       "    </tr>\n",
       "  </tbody>\n",
       "</table>\n",
       "</div>"
      ],
      "text/plain": [
       "                                                 App        Category  Rating  \\\n",
       "0     Photo Editor & Candy Camera & Grid & ScrapBook  ART_AND_DESIGN     4.1   \n",
       "1                                Coloring book moana  ART_AND_DESIGN     3.9   \n",
       "2  U Launcher Lite – FREE Live Cool Themes, Hide ...  ART_AND_DESIGN     4.7   \n",
       "3                              Sketch - Draw & Paint  ART_AND_DESIGN     4.5   \n",
       "4              Pixel Draw - Number Art Coloring Book  ART_AND_DESIGN     4.3   \n",
       "\n",
       "  Reviews  Size     Installs  Type Price Content Rating  \\\n",
       "0     159   19M      10,000+  Free     0       Everyone   \n",
       "1     967   14M     500,000+  Free     0       Everyone   \n",
       "2   87510  8.7M   5,000,000+  Free     0       Everyone   \n",
       "3  215644   25M  50,000,000+  Free     0           Teen   \n",
       "4     967  2.8M     100,000+  Free     0       Everyone   \n",
       "\n",
       "                      Genres      Last Updated         Current Ver  \\\n",
       "0               Art & Design   January 7, 2018               1.0.0   \n",
       "1  Art & Design;Pretend Play  January 15, 2018               2.0.0   \n",
       "2               Art & Design    August 1, 2018               1.2.4   \n",
       "3               Art & Design      June 8, 2018  Varies with device   \n",
       "4    Art & Design;Creativity     June 20, 2018                 1.1   \n",
       "\n",
       "    Android Ver  \n",
       "0  4.0.3 and up  \n",
       "1  4.0.3 and up  \n",
       "2  4.0.3 and up  \n",
       "3    4.2 and up  \n",
       "4    4.4 and up  "
      ]
     },
     "execution_count": 206,
     "metadata": {},
     "output_type": "execute_result"
    }
   ],
   "source": [
    "df.head()"
   ]
  },
  {
   "cell_type": "markdown",
   "id": "5453e44c",
   "metadata": {},
   "source": [
    "# EDA"
   ]
  },
  {
   "cell_type": "code",
   "execution_count": 207,
   "id": "dbc52800",
   "metadata": {},
   "outputs": [
    {
     "data": {
      "text/plain": [
       "(10841, 13)"
      ]
     },
     "execution_count": 207,
     "metadata": {},
     "output_type": "execute_result"
    }
   ],
   "source": [
    "df.shape"
   ]
  },
  {
   "cell_type": "markdown",
   "id": "c8931c8a",
   "metadata": {},
   "source": [
    "we ave almost 10841 rows and 13 columns"
   ]
  },
  {
   "cell_type": "code",
   "execution_count": 208,
   "id": "7ccb52ce",
   "metadata": {},
   "outputs": [
    {
     "data": {
      "text/plain": [
       "App                  0\n",
       "Category             0\n",
       "Rating            1474\n",
       "Reviews              0\n",
       "Size                 0\n",
       "Installs             0\n",
       "Type                 1\n",
       "Price                0\n",
       "Content Rating       1\n",
       "Genres               0\n",
       "Last Updated         0\n",
       "Current Ver          8\n",
       "Android Ver          3\n",
       "dtype: int64"
      ]
     },
     "execution_count": 208,
     "metadata": {},
     "output_type": "execute_result"
    }
   ],
   "source": [
    "df.isnull().sum()"
   ]
  },
  {
   "cell_type": "markdown",
   "id": "3b308733",
   "metadata": {},
   "source": [
    "We have missing values in Rating,Android ver,type,content Rating Columns Will use Imputation to handle the missing data"
   ]
  },
  {
   "cell_type": "code",
   "execution_count": 209,
   "id": "9fc23d4d",
   "metadata": {},
   "outputs": [],
   "source": [
    "df=df.dropna(subset=['Type','Content Rating','Current Ver','Android Ver'],axis=0)"
   ]
  },
  {
   "cell_type": "markdown",
   "id": "a35fcb1c",
   "metadata": {},
   "source": [
    " Dropping the column with Null values"
   ]
  },
  {
   "cell_type": "code",
   "execution_count": 210,
   "id": "bef4ebcb",
   "metadata": {},
   "outputs": [
    {
     "name": "stdout",
     "output_type": "stream",
     "text": [
      "<class 'pandas.core.frame.DataFrame'>\n",
      "Int64Index: 10829 entries, 0 to 10840\n",
      "Data columns (total 13 columns):\n",
      " #   Column          Non-Null Count  Dtype  \n",
      "---  ------          --------------  -----  \n",
      " 0   App             10829 non-null  object \n",
      " 1   Category        10829 non-null  object \n",
      " 2   Rating          9360 non-null   float64\n",
      " 3   Reviews         10829 non-null  object \n",
      " 4   Size            10829 non-null  object \n",
      " 5   Installs        10829 non-null  object \n",
      " 6   Type            10829 non-null  object \n",
      " 7   Price           10829 non-null  object \n",
      " 8   Content Rating  10829 non-null  object \n",
      " 9   Genres          10829 non-null  object \n",
      " 10  Last Updated    10829 non-null  object \n",
      " 11  Current Ver     10829 non-null  object \n",
      " 12  Android Ver     10829 non-null  object \n",
      "dtypes: float64(1), object(12)\n",
      "memory usage: 1.2+ MB\n"
     ]
    }
   ],
   "source": [
    "df.info()"
   ]
  },
  {
   "cell_type": "markdown",
   "id": "24c96c69",
   "metadata": {},
   "source": [
    "OBSERVATION:\n",
    "\n",
    "*We have Float64 and object datatypes in the columns \n",
    "\n",
    "*The date column is in object format we have to convert in to int as python can only understad "
   ]
  },
  {
   "cell_type": "markdown",
   "id": "dfee5d07",
   "metadata": {},
   "source": [
    "# Data Handling:"
   ]
  },
  {
   "cell_type": "code",
   "execution_count": 211,
   "id": "10a1333b",
   "metadata": {},
   "outputs": [
    {
     "data": {
      "text/plain": [
       "0     19M\n",
       "1     14M\n",
       "2    8.7M\n",
       "3     25M\n",
       "4    2.8M\n",
       "Name: Size_1, dtype: object"
      ]
     },
     "execution_count": 211,
     "metadata": {},
     "output_type": "execute_result"
    }
   ],
   "source": [
    "df['Size_1'] =df.Size.replace(['Varies with device'],[''])\n",
    "df['Size_1'].head()"
   ]
  },
  {
   "cell_type": "code",
   "execution_count": 212,
   "id": "f2db7826",
   "metadata": {},
   "outputs": [
    {
     "data": {
      "text/plain": [
       "0     19\n",
       "1     14\n",
       "2    8.7\n",
       "3     25\n",
       "4    2.8\n",
       "Name: Size_2, dtype: object"
      ]
     },
     "execution_count": 212,
     "metadata": {},
     "output_type": "execute_result"
    }
   ],
   "source": [
    "df['Size_2'] =df.Size_1.replace(r'[KM]+$', '', regex=True)\n",
    "df['Size_2'].head()"
   ]
  },
  {
   "cell_type": "code",
   "execution_count": 213,
   "id": "dc26a635",
   "metadata": {},
   "outputs": [
    {
     "data": {
      "text/plain": [
       "0    1000.0\n",
       "1    1000.0\n",
       "2    1000.0\n",
       "3    1000.0\n",
       "4    1000.0\n",
       "Name: Size_3, dtype: float64"
      ]
     },
     "execution_count": 213,
     "metadata": {},
     "output_type": "execute_result"
    }
   ],
   "source": [
    "df['Size_3']=df.Size_1.str.extract(r'[\\d\\.]+([KM]+)', expand=False).replace(['M'], [10**3])\n",
    "df['Size_3'].head()"
   ]
  },
  {
   "cell_type": "code",
   "execution_count": 214,
   "id": "70c0083b",
   "metadata": {},
   "outputs": [
    {
     "data": {
      "text/plain": [
       "0    19.0\n",
       "1    14.0\n",
       "2     8.7\n",
       "3    25.0\n",
       "4     2.8\n",
       "Name: Size_4, dtype: float64"
      ]
     },
     "execution_count": 214,
     "metadata": {},
     "output_type": "execute_result"
    }
   ],
   "source": [
    "df['Size_4']=df['Size'].astype(str).str.extract(\"([-+]?\\d*\\.\\d+|[-+]?\\d+)\").astype(float)\n",
    "df['Size_4'].head()"
   ]
  },
  {
   "cell_type": "code",
   "execution_count": 215,
   "id": "2d8b2aa1",
   "metadata": {},
   "outputs": [
    {
     "data": {
      "text/plain": [
       "0    19000.0\n",
       "1    14000.0\n",
       "2     8700.0\n",
       "3    25000.0\n",
       "4     2800.0\n",
       "Name: Size_5, dtype: float64"
      ]
     },
     "execution_count": 215,
     "metadata": {},
     "output_type": "execute_result"
    }
   ],
   "source": [
    "df['Size_5']=df['Size_4']*df['Size_3']\n",
    "df['Size_5'].head()"
   ]
  },
  {
   "cell_type": "code",
   "execution_count": 216,
   "id": "cd8c70a9",
   "metadata": {},
   "outputs": [
    {
     "data": {
      "text/plain": [
       "2006"
      ]
     },
     "execution_count": 216,
     "metadata": {},
     "output_type": "execute_result"
    }
   ],
   "source": [
    "df['Size_5'].isnull().sum()"
   ]
  },
  {
   "cell_type": "code",
   "execution_count": 217,
   "id": "045a828b",
   "metadata": {},
   "outputs": [],
   "source": [
    "df['Size_5']=df['Size_5'].fillna(np.mean(df['Size_5']))"
   ]
  },
  {
   "cell_type": "code",
   "execution_count": 218,
   "id": "f86444d9",
   "metadata": {},
   "outputs": [
    {
     "data": {
      "text/plain": [
       "0"
      ]
     },
     "execution_count": 218,
     "metadata": {},
     "output_type": "execute_result"
    }
   ],
   "source": [
    "df['Size_5'].isnull().sum()"
   ]
  },
  {
   "cell_type": "markdown",
   "id": "a17d47c2",
   "metadata": {},
   "source": [
    "Splitting: \n",
    "Deleted \"Varies with device\" text from Size column\n",
    "\n",
    "Replacing 'M' with ' ' string, e.g '123M' becomes 123 and dropping Nan values.\n",
    "\n",
    "Some of the data in Size column also contains data like '234K', '765k' which means 'Kb' Kilobytes so this function removes 'k' and than divide this value with 1000 in order to convert it into Mb"
   ]
  },
  {
   "cell_type": "markdown",
   "id": "3ac2e1a5",
   "metadata": {},
   "source": [
    "# Remove ‘+’, ‘,’ from the field, convert it to integer"
   ]
  },
  {
   "cell_type": "code",
   "execution_count": 219,
   "id": "75284437",
   "metadata": {},
   "outputs": [
    {
     "data": {
      "text/plain": [
       "0        10,000+\n",
       "1       500,000+\n",
       "2     5,000,000+\n",
       "3    50,000,000+\n",
       "4       100,000+\n",
       "Name: Installs, dtype: object"
      ]
     },
     "execution_count": 219,
     "metadata": {},
     "output_type": "execute_result"
    }
   ],
   "source": [
    "df['Installs'].head()"
   ]
  },
  {
   "cell_type": "code",
   "execution_count": 220,
   "id": "237b1cb2",
   "metadata": {},
   "outputs": [],
   "source": [
    "df['Installs_1'] = df['Installs'].replace({'[,+]':''},regex=True)"
   ]
  },
  {
   "cell_type": "code",
   "execution_count": 221,
   "id": "5fb27cb4",
   "metadata": {},
   "outputs": [
    {
     "data": {
      "text/plain": [
       "0       10000\n",
       "1      500000\n",
       "2     5000000\n",
       "3    50000000\n",
       "4      100000\n",
       "Name: Installs_1, dtype: int32"
      ]
     },
     "execution_count": 221,
     "metadata": {},
     "output_type": "execute_result"
    }
   ],
   "source": [
    "df['Installs_1'] =df['Installs_1'].astype(int)\n",
    "df['Installs_1'].head()"
   ]
  },
  {
   "cell_type": "markdown",
   "id": "1b29e496",
   "metadata": {},
   "source": [
    "# Price field is a stringas it  has symbol and convert it to numeric."
   ]
  },
  {
   "cell_type": "code",
   "execution_count": 222,
   "id": "50d087e8",
   "metadata": {},
   "outputs": [
    {
     "data": {
      "text/plain": [
       "221    0\n",
       "222    0\n",
       "223    0\n",
       "224    0\n",
       "Name: Price, dtype: object"
      ]
     },
     "execution_count": 222,
     "metadata": {},
     "output_type": "execute_result"
    }
   ],
   "source": [
    "df['Price'][220:224]"
   ]
  },
  {
   "cell_type": "code",
   "execution_count": 223,
   "id": "36d2ed9b",
   "metadata": {},
   "outputs": [
    {
     "data": {
      "text/plain": [
       "pandas.core.series.Series"
      ]
     },
     "execution_count": 223,
     "metadata": {},
     "output_type": "execute_result"
    }
   ],
   "source": [
    "type(df['Price'])"
   ]
  },
  {
   "cell_type": "code",
   "execution_count": 224,
   "id": "51a0155b",
   "metadata": {},
   "outputs": [],
   "source": [
    "df['Price_1'] =df['Price'].astype(str).str.extract(\"([-+]?\\d*\\.\\d+|[-+]?\\d+)$\").astype(float)"
   ]
  },
  {
   "cell_type": "code",
   "execution_count": 225,
   "id": "173d6760",
   "metadata": {},
   "outputs": [
    {
     "name": "stdout",
     "output_type": "stream",
     "text": [
      "<class 'pandas.core.frame.DataFrame'>\n",
      "Int64Index: 10829 entries, 0 to 10840\n",
      "Data columns (total 20 columns):\n",
      " #   Column          Non-Null Count  Dtype  \n",
      "---  ------          --------------  -----  \n",
      " 0   App             10829 non-null  object \n",
      " 1   Category        10829 non-null  object \n",
      " 2   Rating          9360 non-null   float64\n",
      " 3   Reviews         10829 non-null  object \n",
      " 4   Size            10829 non-null  object \n",
      " 5   Installs        10829 non-null  object \n",
      " 6   Type            10829 non-null  object \n",
      " 7   Price           10829 non-null  object \n",
      " 8   Content Rating  10829 non-null  object \n",
      " 9   Genres          10829 non-null  object \n",
      " 10  Last Updated    10829 non-null  object \n",
      " 11  Current Ver     10829 non-null  object \n",
      " 12  Android Ver     10829 non-null  object \n",
      " 13  Size_1          10829 non-null  object \n",
      " 14  Size_2          10829 non-null  object \n",
      " 15  Size_3          8823 non-null   float64\n",
      " 16  Size_4          9135 non-null   float64\n",
      " 17  Size_5          10829 non-null  float64\n",
      " 18  Installs_1      10829 non-null  int32  \n",
      " 19  Price_1         10829 non-null  float64\n",
      "dtypes: float64(5), int32(1), object(14)\n",
      "memory usage: 1.7+ MB\n"
     ]
    }
   ],
   "source": [
    "df.info()"
   ]
  },
  {
   "cell_type": "markdown",
   "id": "47b5a2eb",
   "metadata": {},
   "source": [
    "# Average rating should be between 1 and 5 as only these values are allowed on the play store. Drop the rows that have a value outside this range."
   ]
  },
  {
   "cell_type": "code",
   "execution_count": 226,
   "id": "7f38b011",
   "metadata": {},
   "outputs": [
    {
     "data": {
      "text/plain": [
       "5.0"
      ]
     },
     "execution_count": 226,
     "metadata": {},
     "output_type": "execute_result"
    }
   ],
   "source": [
    "max(df['Rating'])"
   ]
  },
  {
   "cell_type": "code",
   "execution_count": 227,
   "id": "e132bac4",
   "metadata": {},
   "outputs": [
    {
     "data": {
      "text/plain": [
       "1.0"
      ]
     },
     "execution_count": 227,
     "metadata": {},
     "output_type": "execute_result"
    }
   ],
   "source": [
    "min(df['Rating'])"
   ]
  },
  {
   "cell_type": "markdown",
   "id": "1a692a22",
   "metadata": {},
   "source": [
    "# Reviews should not be more than installs as only those who installed can review the app. If there are any such records, drop them."
   ]
  },
  {
   "cell_type": "code",
   "execution_count": 228,
   "id": "82aad607",
   "metadata": {},
   "outputs": [
    {
     "data": {
      "text/plain": [
       "0       159\n",
       "1       967\n",
       "2     87510\n",
       "3    215644\n",
       "4       967\n",
       "Name: Reviews_1, dtype: int32"
      ]
     },
     "execution_count": 228,
     "metadata": {},
     "output_type": "execute_result"
    }
   ],
   "source": [
    "df['Reviews_1'] =df['Reviews'].astype(int)\n",
    "df['Reviews_1'].head()"
   ]
  },
  {
   "cell_type": "code",
   "execution_count": 229,
   "id": "dab2efb9",
   "metadata": {},
   "outputs": [
    {
     "data": {
      "text/plain": [
       "0       159\n",
       "1       967\n",
       "2     87510\n",
       "3    215644\n",
       "4       967\n",
       "Name: Reviews_1, dtype: int32"
      ]
     },
     "execution_count": 229,
     "metadata": {},
     "output_type": "execute_result"
    }
   ],
   "source": [
    "df['Reviews_1'].head()"
   ]
  },
  {
   "cell_type": "code",
   "execution_count": 230,
   "id": "2dc9d181",
   "metadata": {},
   "outputs": [
    {
     "data": {
      "text/plain": [
       "0    False\n",
       "1    False\n",
       "2    False\n",
       "3    False\n",
       "4    False\n",
       "Name: rgti, dtype: bool"
      ]
     },
     "execution_count": 230,
     "metadata": {},
     "output_type": "execute_result"
    }
   ],
   "source": [
    "df['rgti'] =df['Reviews_1']>df['Installs_1']\n",
    "df['rgti'].head()"
   ]
  },
  {
   "cell_type": "code",
   "execution_count": 231,
   "id": "4c0fee5d",
   "metadata": {},
   "outputs": [
    {
     "data": {
      "text/plain": [
       "Int64Index([2454, 4550, 4663, 5812, 5917, 6508, 6700, 7402, 8591, 9096, 10697], dtype='int64')"
      ]
     },
     "execution_count": 231,
     "metadata": {},
     "output_type": "execute_result"
    }
   ],
   "source": [
    "df.rgti[df.rgti].index"
   ]
  },
  {
   "cell_type": "code",
   "execution_count": 232,
   "id": "f2f0a5b9",
   "metadata": {},
   "outputs": [
    {
     "data": {
      "text/plain": [
       "Int64Index([], dtype='int64')"
      ]
     },
     "execution_count": 232,
     "metadata": {},
     "output_type": "execute_result"
    }
   ],
   "source": [
    "df2= df.drop([2454, 4550, 4663, 5812, 5917, 6508, 6700, 7402, 8591, 9096, 10697])\n",
    "df2.rgti[df.rgti].index"
   ]
  },
  {
   "cell_type": "markdown",
   "id": "9cea6e3e",
   "metadata": {},
   "source": [
    "There is no rows with tthe above condition"
   ]
  },
  {
   "cell_type": "markdown",
   "id": "fd14b992",
   "metadata": {},
   "source": [
    "# Univarient Analysis"
   ]
  },
  {
   "cell_type": "code",
   "execution_count": 233,
   "id": "8a3c287b",
   "metadata": {},
   "outputs": [
    {
     "data": {
      "text/plain": [
       "Reviews_1    2544\n",
       "dtype: int64"
      ]
     },
     "execution_count": 233,
     "metadata": {},
     "output_type": "execute_result"
    }
   ],
   "source": [
    "df2[['Reviews_1']].idxmax()"
   ]
  },
  {
   "cell_type": "code",
   "execution_count": 234,
   "id": "96c65a86",
   "metadata": {},
   "outputs": [
    {
     "data": {
      "text/plain": [
       "App               Clash of Clans\n",
       "Category                    GAME\n",
       "Rating                       4.6\n",
       "Reviews                 44893888\n",
       "Size                         98M\n",
       "Installs            100,000,000+\n",
       "Type                        Free\n",
       "Price                          0\n",
       "Content Rating      Everyone 10+\n",
       "Genres                  Strategy\n",
       "Last Updated       July 15, 2018\n",
       "Current Ver            10.322.16\n",
       "Android Ver           4.1 and up\n",
       "Size_1                       98M\n",
       "Size_2                        98\n",
       "Size_3                    1000.0\n",
       "Size_4                      98.0\n",
       "Size_5                   98000.0\n",
       "Installs_1             100000000\n",
       "Price_1                      0.0\n",
       "Reviews_1               44893888\n",
       "rgti                       False\n",
       "Name: 1879, dtype: object"
      ]
     },
     "execution_count": 234,
     "metadata": {},
     "output_type": "execute_result"
    }
   ],
   "source": [
    "df2.loc[1879]"
   ]
  },
  {
   "cell_type": "markdown",
   "id": "94c6281c",
   "metadata": {},
   "source": [
    "The highest reviews seem to be of Clash Of Clans app, which is widely used across all age groups and domains, so they seem to be right."
   ]
  },
  {
   "cell_type": "code",
   "execution_count": 235,
   "id": "85553e88",
   "metadata": {},
   "outputs": [
    {
     "data": {
      "image/png": "[encoded data removed]",
      "text/plain": [
       "<Figure size 1224x864 with 1 Axes>"
      ]
     },
     "metadata": {},
     "output_type": "display_data"
    }
   ],
   "source": [
    "plt.figure(figsize=(17,12))\n",
    "sns.countplot(x='Type', hue='Category',  data=df2);"
   ]
  },
  {
   "cell_type": "markdown",
   "id": "fd56f3bd",
   "metadata": {},
   "source": [
    "THE SOCIAL APPS IS HIGHLY USED APP IN FREE "
   ]
  },
  {
   "cell_type": "code",
   "execution_count": 236,
   "id": "3b2b132c",
   "metadata": {},
   "outputs": [
    {
     "data": {
      "text/plain": [
       "(array([  17.,   18.,   41.,   74.,  137.,  445.,  879., 1660., 4172.,\n",
       "        1910.]),\n",
       " array([1. , 1.4, 1.8, 2.2, 2.6, 3. , 3.4, 3.8, 4.2, 4.6, 5. ]),\n",
       " <BarContainer object of 10 artists>)"
      ]
     },
     "execution_count": 236,
     "metadata": {},
     "output_type": "execute_result"
    },
    {
     "data": {
      "image/png": "[encoded data removed]",
      "text/plain": [
       "<Figure size 842.4x595.44 with 1 Axes>"
      ]
     },
     "metadata": {},
     "output_type": "display_data"
    }
   ],
   "source": [
    "plt.hist(df2['Rating'])"
   ]
  },
  {
   "cell_type": "markdown",
   "id": "ec1fbc0a",
   "metadata": {},
   "source": [
    "The more Rating is of peak of 4.5"
   ]
  },
  {
   "cell_type": "markdown",
   "id": "97892f02",
   "metadata": {},
   "source": [
    "Checking for max price in paid application"
   ]
  },
  {
   "cell_type": "code",
   "execution_count": 237,
   "id": "1a8b47d8",
   "metadata": {},
   "outputs": [
    {
     "data": {
      "text/plain": [
       "400.0"
      ]
     },
     "execution_count": 237,
     "metadata": {},
     "output_type": "execute_result"
    }
   ],
   "source": [
    "max(df2['Price_1'])"
   ]
  },
  {
   "cell_type": "markdown",
   "id": "4d01d16b",
   "metadata": {},
   "source": [
    "it seems like the value 400 is high for paid apps and im consideringthis as a outliers "
   ]
  },
  {
   "cell_type": "code",
   "execution_count": 238,
   "id": "2e8d4a3c",
   "metadata": {},
   "outputs": [],
   "source": [
    "df3= df2[df2['Price_1'] <= 200.00 ]"
   ]
  },
  {
   "cell_type": "code",
   "execution_count": 239,
   "id": "aab70156",
   "metadata": {},
   "outputs": [
    {
     "data": {
      "text/plain": [
       "200.0"
      ]
     },
     "execution_count": 239,
     "metadata": {},
     "output_type": "execute_result"
    }
   ],
   "source": [
    "max(df3['Price_1'])"
   ]
  },
  {
   "cell_type": "markdown",
   "id": "387e87e9",
   "metadata": {},
   "source": [
    "# Reviews: Very few apps have very high number of reviews. These are all star apps that don’t help with the analysis and, in fact, will skew it. Drop records having more than 2 million reviews."
   ]
  },
  {
   "cell_type": "code",
   "execution_count": 240,
   "id": "b520c0c0",
   "metadata": {},
   "outputs": [
    {
     "data": {
      "text/plain": [
       "78158306"
      ]
     },
     "execution_count": 240,
     "metadata": {},
     "output_type": "execute_result"
    }
   ],
   "source": [
    "max(df3['Reviews_1'])"
   ]
  },
  {
   "cell_type": "code",
   "execution_count": 241,
   "id": "e2093952",
   "metadata": {},
   "outputs": [],
   "source": [
    "df4=df3[df3['Reviews_1'] < 2000000]"
   ]
  },
  {
   "cell_type": "code",
   "execution_count": 242,
   "id": "037280d6",
   "metadata": {},
   "outputs": [
    {
     "data": {
      "text/plain": [
       "1986068"
      ]
     },
     "execution_count": 242,
     "metadata": {},
     "output_type": "execute_result"
    }
   ],
   "source": [
    "max(df4['Reviews_1'])"
   ]
  },
  {
   "cell_type": "markdown",
   "id": "06c8409f",
   "metadata": {},
   "source": [
    "# Installs: There seems to be some outliers in this field too. Apps having very high number of installs should be dropped from the analysis."
   ]
  },
  {
   "cell_type": "code",
   "execution_count": 243,
   "id": "faa5d780",
   "metadata": {},
   "outputs": [
    {
     "name": "stdout",
     "output_type": "stream",
     "text": [
      "10th Percentile\n",
      " 100.0\n",
      "25th Percentile\n",
      " 1000.0\n",
      "50th Percentile\n",
      " 100000.0\n",
      "70th Percentile\n",
      " 1000000.0\n",
      "95th Percentile\n",
      " 10000000.0\n",
      "99th Percentile\n",
      " 100000000.0\n"
     ]
    }
   ],
   "source": [
    "print(\"10th Percentile\\n\", np.percentile(df4['Installs_1'],q=10))\n",
    "print(\"25th Percentile\\n\", np.percentile(df4['Installs_1'],q=25))\n",
    "print(\"50th Percentile\\n\", np.percentile(df4['Installs_1'],q=50))\n",
    "print(\"70th Percentile\\n\", np.percentile(df4['Installs_1'],q=70))\n",
    "print(\"95th Percentile\\n\", np.percentile(df4['Installs_1'],q=95))\n",
    "print(\"99th Percentile\\n\", np.percentile(df4['Installs_1'],q=99))"
   ]
  },
  {
   "cell_type": "markdown",
   "id": "af7497ad",
   "metadata": {},
   "source": [
    "Decide a threshold as cutoff for outlier and drop records having values more than that"
   ]
  },
  {
   "cell_type": "code",
   "execution_count": 244,
   "id": "9d13689d",
   "metadata": {},
   "outputs": [
    {
     "data": {
      "text/plain": [
       "1000000000"
      ]
     },
     "execution_count": 244,
     "metadata": {},
     "output_type": "execute_result"
    }
   ],
   "source": [
    "max(df4['Installs_1'])"
   ]
  },
  {
   "cell_type": "code",
   "execution_count": 245,
   "id": "14c8d754",
   "metadata": {},
   "outputs": [],
   "source": [
    "df5=df4[df4['Installs_1'] <= 1000000]"
   ]
  },
  {
   "cell_type": "code",
   "execution_count": 246,
   "id": "e2d1019b",
   "metadata": {},
   "outputs": [
    {
     "data": {
      "text/plain": [
       "1000000"
      ]
     },
     "execution_count": 246,
     "metadata": {},
     "output_type": "execute_result"
    }
   ],
   "source": [
    "max(df5['Installs_1'])"
   ]
  },
  {
   "cell_type": "markdown",
   "id": "15e12c8b",
   "metadata": {},
   "source": [
    "# BIVARIENT ANALYSIS"
   ]
  },
  {
   "cell_type": "markdown",
   "id": "d7f3baec",
   "metadata": {},
   "source": [
    "Analysing pricing with target"
   ]
  },
  {
   "cell_type": "code",
   "execution_count": 247,
   "id": "f40c9f3d",
   "metadata": {},
   "outputs": [
    {
     "data": {
      "text/plain": [
       "<matplotlib.collections.PathCollection at 0x234805881f0>"
      ]
     },
     "execution_count": 247,
     "metadata": {},
     "output_type": "execute_result"
    },
    {
     "data": {
      "image/png": "[encoded data removed]",
      "text/plain": [
       "<Figure size 842.4x595.44 with 1 Axes>"
      ]
     },
     "metadata": {},
     "output_type": "display_data"
    }
   ],
   "source": [
    "plt.scatter(x=df5['Rating'],y=df5['Price_1'])"
   ]
  },
  {
   "cell_type": "markdown",
   "id": "8b871021",
   "metadata": {},
   "source": [
    "From the above scatter plot, ratings seem to increase with price."
   ]
  },
  {
   "cell_type": "code",
   "execution_count": 248,
   "id": "da697040",
   "metadata": {},
   "outputs": [
    {
     "data": {
      "text/plain": [
       "<matplotlib.collections.PathCollection at 0x23480df27c0>"
      ]
     },
     "execution_count": 248,
     "metadata": {},
     "output_type": "execute_result"
    },
    {
     "data": {
      "image/png": "[encoded data removed]",
      "text/plain": [
       "<Figure size 842.4x595.44 with 1 Axes>"
      ]
     },
     "metadata": {},
     "output_type": "display_data"
    }
   ],
   "source": [
    "plt.scatter(x=df5['Rating'],y=df5['Reviews_1'])"
   ]
  },
  {
   "cell_type": "markdown",
   "id": "178b9c14",
   "metadata": {},
   "source": [
    "From the scatter plot above it would appear that more reviews seem to be getting a better rating than lesser rated apps."
   ]
  },
  {
   "cell_type": "markdown",
   "id": "d64491a2",
   "metadata": {},
   "source": [
    "# DATA PREPROCESSING"
   ]
  },
  {
   "cell_type": "code",
   "execution_count": 249,
   "id": "5c50b0dd",
   "metadata": {},
   "outputs": [
    {
     "data": {
      "text/html": [
       "<div>\n",
       "<style scoped>\n",
       "    .dataframe tbody tr th:only-of-type {\n",
       "        vertical-align: middle;\n",
       "    }\n",
       "\n",
       "    .dataframe tbody tr th {\n",
       "        vertical-align: top;\n",
       "    }\n",
       "\n",
       "    .dataframe thead th {\n",
       "        text-align: right;\n",
       "    }\n",
       "</style>\n",
       "<table border=\"1\" class=\"dataframe\">\n",
       "  <thead>\n",
       "    <tr style=\"text-align: right;\">\n",
       "      <th></th>\n",
       "      <th>App</th>\n",
       "      <th>Category</th>\n",
       "      <th>Rating</th>\n",
       "      <th>Reviews</th>\n",
       "      <th>Size</th>\n",
       "      <th>Installs</th>\n",
       "      <th>Type</th>\n",
       "      <th>Price</th>\n",
       "      <th>Content Rating</th>\n",
       "      <th>Genres</th>\n",
       "      <th>...</th>\n",
       "      <th>Android Ver</th>\n",
       "      <th>Size_1</th>\n",
       "      <th>Size_2</th>\n",
       "      <th>Size_3</th>\n",
       "      <th>Size_4</th>\n",
       "      <th>Size_5</th>\n",
       "      <th>Installs_1</th>\n",
       "      <th>Price_1</th>\n",
       "      <th>Reviews_1</th>\n",
       "      <th>rgti</th>\n",
       "    </tr>\n",
       "  </thead>\n",
       "  <tbody>\n",
       "    <tr>\n",
       "      <th>0</th>\n",
       "      <td>Photo Editor &amp; Candy Camera &amp; Grid &amp; ScrapBook</td>\n",
       "      <td>ART_AND_DESIGN</td>\n",
       "      <td>4.1</td>\n",
       "      <td>159</td>\n",
       "      <td>19M</td>\n",
       "      <td>10,000+</td>\n",
       "      <td>Free</td>\n",
       "      <td>0</td>\n",
       "      <td>Everyone</td>\n",
       "      <td>Art &amp; Design</td>\n",
       "      <td>...</td>\n",
       "      <td>4.0.3 and up</td>\n",
       "      <td>19M</td>\n",
       "      <td>19</td>\n",
       "      <td>1000.0</td>\n",
       "      <td>19.0</td>\n",
       "      <td>19000.0</td>\n",
       "      <td>10000</td>\n",
       "      <td>0.0</td>\n",
       "      <td>159</td>\n",
       "      <td>False</td>\n",
       "    </tr>\n",
       "    <tr>\n",
       "      <th>1</th>\n",
       "      <td>Coloring book moana</td>\n",
       "      <td>ART_AND_DESIGN</td>\n",
       "      <td>3.9</td>\n",
       "      <td>967</td>\n",
       "      <td>14M</td>\n",
       "      <td>500,000+</td>\n",
       "      <td>Free</td>\n",
       "      <td>0</td>\n",
       "      <td>Everyone</td>\n",
       "      <td>Art &amp; Design;Pretend Play</td>\n",
       "      <td>...</td>\n",
       "      <td>4.0.3 and up</td>\n",
       "      <td>14M</td>\n",
       "      <td>14</td>\n",
       "      <td>1000.0</td>\n",
       "      <td>14.0</td>\n",
       "      <td>14000.0</td>\n",
       "      <td>500000</td>\n",
       "      <td>0.0</td>\n",
       "      <td>967</td>\n",
       "      <td>False</td>\n",
       "    </tr>\n",
       "    <tr>\n",
       "      <th>4</th>\n",
       "      <td>Pixel Draw - Number Art Coloring Book</td>\n",
       "      <td>ART_AND_DESIGN</td>\n",
       "      <td>4.3</td>\n",
       "      <td>967</td>\n",
       "      <td>2.8M</td>\n",
       "      <td>100,000+</td>\n",
       "      <td>Free</td>\n",
       "      <td>0</td>\n",
       "      <td>Everyone</td>\n",
       "      <td>Art &amp; Design;Creativity</td>\n",
       "      <td>...</td>\n",
       "      <td>4.4 and up</td>\n",
       "      <td>2.8M</td>\n",
       "      <td>2.8</td>\n",
       "      <td>1000.0</td>\n",
       "      <td>2.8</td>\n",
       "      <td>2800.0</td>\n",
       "      <td>100000</td>\n",
       "      <td>0.0</td>\n",
       "      <td>967</td>\n",
       "      <td>False</td>\n",
       "    </tr>\n",
       "    <tr>\n",
       "      <th>5</th>\n",
       "      <td>Paper flowers instructions</td>\n",
       "      <td>ART_AND_DESIGN</td>\n",
       "      <td>4.4</td>\n",
       "      <td>167</td>\n",
       "      <td>5.6M</td>\n",
       "      <td>50,000+</td>\n",
       "      <td>Free</td>\n",
       "      <td>0</td>\n",
       "      <td>Everyone</td>\n",
       "      <td>Art &amp; Design</td>\n",
       "      <td>...</td>\n",
       "      <td>2.3 and up</td>\n",
       "      <td>5.6M</td>\n",
       "      <td>5.6</td>\n",
       "      <td>1000.0</td>\n",
       "      <td>5.6</td>\n",
       "      <td>5600.0</td>\n",
       "      <td>50000</td>\n",
       "      <td>0.0</td>\n",
       "      <td>167</td>\n",
       "      <td>False</td>\n",
       "    </tr>\n",
       "    <tr>\n",
       "      <th>6</th>\n",
       "      <td>Smoke Effect Photo Maker - Smoke Editor</td>\n",
       "      <td>ART_AND_DESIGN</td>\n",
       "      <td>3.8</td>\n",
       "      <td>178</td>\n",
       "      <td>19M</td>\n",
       "      <td>50,000+</td>\n",
       "      <td>Free</td>\n",
       "      <td>0</td>\n",
       "      <td>Everyone</td>\n",
       "      <td>Art &amp; Design</td>\n",
       "      <td>...</td>\n",
       "      <td>4.0.3 and up</td>\n",
       "      <td>19M</td>\n",
       "      <td>19</td>\n",
       "      <td>1000.0</td>\n",
       "      <td>19.0</td>\n",
       "      <td>19000.0</td>\n",
       "      <td>50000</td>\n",
       "      <td>0.0</td>\n",
       "      <td>178</td>\n",
       "      <td>False</td>\n",
       "    </tr>\n",
       "  </tbody>\n",
       "</table>\n",
       "<p>5 rows × 22 columns</p>\n",
       "</div>"
      ],
      "text/plain": [
       "                                              App        Category  Rating  \\\n",
       "0  Photo Editor & Candy Camera & Grid & ScrapBook  ART_AND_DESIGN     4.1   \n",
       "1                             Coloring book moana  ART_AND_DESIGN     3.9   \n",
       "4           Pixel Draw - Number Art Coloring Book  ART_AND_DESIGN     4.3   \n",
       "5                      Paper flowers instructions  ART_AND_DESIGN     4.4   \n",
       "6         Smoke Effect Photo Maker - Smoke Editor  ART_AND_DESIGN     3.8   \n",
       "\n",
       "  Reviews  Size  Installs  Type Price Content Rating  \\\n",
       "0     159   19M   10,000+  Free     0       Everyone   \n",
       "1     967   14M  500,000+  Free     0       Everyone   \n",
       "4     967  2.8M  100,000+  Free     0       Everyone   \n",
       "5     167  5.6M   50,000+  Free     0       Everyone   \n",
       "6     178   19M   50,000+  Free     0       Everyone   \n",
       "\n",
       "                      Genres  ...   Android Ver Size_1 Size_2  Size_3 Size_4  \\\n",
       "0               Art & Design  ...  4.0.3 and up    19M     19  1000.0   19.0   \n",
       "1  Art & Design;Pretend Play  ...  4.0.3 and up    14M     14  1000.0   14.0   \n",
       "4    Art & Design;Creativity  ...    4.4 and up   2.8M    2.8  1000.0    2.8   \n",
       "5               Art & Design  ...    2.3 and up   5.6M    5.6  1000.0    5.6   \n",
       "6               Art & Design  ...  4.0.3 and up    19M     19  1000.0   19.0   \n",
       "\n",
       "    Size_5  Installs_1  Price_1  Reviews_1   rgti  \n",
       "0  19000.0       10000      0.0        159  False  \n",
       "1  14000.0      500000      0.0        967  False  \n",
       "4   2800.0      100000      0.0        967  False  \n",
       "5   5600.0       50000      0.0        167  False  \n",
       "6  19000.0       50000      0.0        178  False  \n",
       "\n",
       "[5 rows x 22 columns]"
      ]
     },
     "execution_count": 249,
     "metadata": {},
     "output_type": "execute_result"
    }
   ],
   "source": [
    "inp1=df5.copy()\n",
    "inp1.head()"
   ]
  },
  {
   "cell_type": "markdown",
   "id": "cfef50ea",
   "metadata": {},
   "source": [
    "COPYING THE DATA "
   ]
  },
  {
   "cell_type": "markdown",
   "id": "1f0572c8",
   "metadata": {},
   "source": [
    "# Reviews and Install have some values that are still relatively very high. Before building a linear regression model, you need to reduce the skew. Apply log transformation (np.log1p) to Reviews and Installs."
   ]
  },
  {
   "cell_type": "code",
   "execution_count": 250,
   "id": "532f0205",
   "metadata": {},
   "outputs": [
    {
     "data": {
      "text/plain": [
       "0    5.075174\n",
       "1    6.875232\n",
       "4    6.875232\n",
       "5    5.123964\n",
       "6    5.187386\n",
       "Name: Reviews_2, dtype: float64"
      ]
     },
     "execution_count": 250,
     "metadata": {},
     "output_type": "execute_result"
    }
   ],
   "source": [
    "inp1['Reviews_2'] = np.log1p(inp1['Reviews_1'])\n",
    "inp1['Reviews_2'].head()"
   ]
  },
  {
   "cell_type": "code",
   "execution_count": 251,
   "id": "47ba4edf",
   "metadata": {},
   "outputs": [
    {
     "data": {
      "text/plain": [
       "0     9.210440\n",
       "1    13.122365\n",
       "4    11.512935\n",
       "5    10.819798\n",
       "6    10.819798\n",
       "Name: Installs_2, dtype: float64"
      ]
     },
     "execution_count": 251,
     "metadata": {},
     "output_type": "execute_result"
    }
   ],
   "source": [
    "inp1['Installs_2'] = np.log1p(inp1['Installs_1'])\n",
    "inp1['Installs_2'].head()"
   ]
  },
  {
   "cell_type": "code",
   "execution_count": 252,
   "id": "340eba8f",
   "metadata": {},
   "outputs": [
    {
     "data": {
      "text/plain": [
       "0    9.852247\n",
       "1    9.546884\n",
       "4    7.937732\n",
       "5    8.630700\n",
       "6    9.852247\n",
       "Name: Size_5, dtype: float64"
      ]
     },
     "execution_count": 252,
     "metadata": {},
     "output_type": "execute_result"
    }
   ],
   "source": [
    "inp1['Size_5'] = np.log1p(inp1['Size_5'])\n",
    "inp1['Size_5'].head()"
   ]
  },
  {
   "cell_type": "code",
   "execution_count": 50,
   "id": "446abb77",
   "metadata": {},
   "outputs": [
    {
     "data": {
      "text/html": [
       "<div>\n",
       "<style scoped>\n",
       "    .dataframe tbody tr th:only-of-type {\n",
       "        vertical-align: middle;\n",
       "    }\n",
       "\n",
       "    .dataframe tbody tr th {\n",
       "        vertical-align: top;\n",
       "    }\n",
       "\n",
       "    .dataframe thead th {\n",
       "        text-align: right;\n",
       "    }\n",
       "</style>\n",
       "<table border=\"1\" class=\"dataframe\">\n",
       "  <thead>\n",
       "    <tr style=\"text-align: right;\">\n",
       "      <th></th>\n",
       "      <th>App</th>\n",
       "      <th>Category</th>\n",
       "      <th>Rating</th>\n",
       "      <th>Reviews</th>\n",
       "      <th>Size</th>\n",
       "      <th>Installs</th>\n",
       "      <th>Type</th>\n",
       "      <th>Price</th>\n",
       "      <th>Content Rating</th>\n",
       "      <th>Genres</th>\n",
       "      <th>...</th>\n",
       "      <th>Size_2</th>\n",
       "      <th>Size_3</th>\n",
       "      <th>Size_4</th>\n",
       "      <th>Size_5</th>\n",
       "      <th>Installs_1</th>\n",
       "      <th>Price_1</th>\n",
       "      <th>Reviews_1</th>\n",
       "      <th>rgti</th>\n",
       "      <th>Reviews_2</th>\n",
       "      <th>Installs_2</th>\n",
       "    </tr>\n",
       "  </thead>\n",
       "  <tbody>\n",
       "    <tr>\n",
       "      <th>0</th>\n",
       "      <td>Photo Editor &amp; Candy Camera &amp; Grid &amp; ScrapBook</td>\n",
       "      <td>ART_AND_DESIGN</td>\n",
       "      <td>4.1</td>\n",
       "      <td>159</td>\n",
       "      <td>19M</td>\n",
       "      <td>10,000+</td>\n",
       "      <td>Free</td>\n",
       "      <td>0</td>\n",
       "      <td>Everyone</td>\n",
       "      <td>Art &amp; Design</td>\n",
       "      <td>...</td>\n",
       "      <td>19</td>\n",
       "      <td>1000.0</td>\n",
       "      <td>19.0</td>\n",
       "      <td>9.852247</td>\n",
       "      <td>10000</td>\n",
       "      <td>0.0</td>\n",
       "      <td>159</td>\n",
       "      <td>False</td>\n",
       "      <td>5.075174</td>\n",
       "      <td>9.21044</td>\n",
       "    </tr>\n",
       "  </tbody>\n",
       "</table>\n",
       "<p>1 rows × 24 columns</p>\n",
       "</div>"
      ],
      "text/plain": [
       "                                              App        Category  Rating  \\\n",
       "0  Photo Editor & Candy Camera & Grid & ScrapBook  ART_AND_DESIGN     4.1   \n",
       "\n",
       "  Reviews Size Installs  Type Price Content Rating        Genres  ... Size_2  \\\n",
       "0     159  19M  10,000+  Free     0       Everyone  Art & Design  ...     19   \n",
       "\n",
       "   Size_3 Size_4    Size_5 Installs_1  Price_1  Reviews_1   rgti  Reviews_2  \\\n",
       "0  1000.0   19.0  9.852247      10000      0.0        159  False   5.075174   \n",
       "\n",
       "   Installs_2  \n",
       "0     9.21044  \n",
       "\n",
       "[1 rows x 24 columns]"
      ]
     },
     "execution_count": 50,
     "metadata": {},
     "output_type": "execute_result"
    }
   ],
   "source": [
    "inp1.head(1)"
   ]
  },
  {
   "cell_type": "code",
   "execution_count": 256,
   "id": "7ce888c3",
   "metadata": {},
   "outputs": [
    {
     "data": {
      "text/html": [
       "<div>\n",
       "<style scoped>\n",
       "    .dataframe tbody tr th:only-of-type {\n",
       "        vertical-align: middle;\n",
       "    }\n",
       "\n",
       "    .dataframe tbody tr th {\n",
       "        vertical-align: top;\n",
       "    }\n",
       "\n",
       "    .dataframe thead th {\n",
       "        text-align: right;\n",
       "    }\n",
       "</style>\n",
       "<table border=\"1\" class=\"dataframe\">\n",
       "  <thead>\n",
       "    <tr style=\"text-align: right;\">\n",
       "      <th></th>\n",
       "      <th>App</th>\n",
       "      <th>Category</th>\n",
       "      <th>Rating</th>\n",
       "      <th>Reviews</th>\n",
       "      <th>Size</th>\n",
       "      <th>Installs</th>\n",
       "      <th>Type</th>\n",
       "      <th>Price</th>\n",
       "      <th>Content Rating</th>\n",
       "      <th>Genres</th>\n",
       "      <th>Last Updated</th>\n",
       "      <th>Current Ver</th>\n",
       "      <th>Android Ver</th>\n",
       "      <th>Size_5</th>\n",
       "      <th>Installs_1</th>\n",
       "      <th>Price_1</th>\n",
       "      <th>Reviews_1</th>\n",
       "      <th>rgti</th>\n",
       "      <th>Reviews_2</th>\n",
       "      <th>Installs_2</th>\n",
       "    </tr>\n",
       "  </thead>\n",
       "  <tbody>\n",
       "    <tr>\n",
       "      <th>0</th>\n",
       "      <td>Photo Editor &amp; Candy Camera &amp; Grid &amp; ScrapBook</td>\n",
       "      <td>ART_AND_DESIGN</td>\n",
       "      <td>4.1</td>\n",
       "      <td>159</td>\n",
       "      <td>19M</td>\n",
       "      <td>10,000+</td>\n",
       "      <td>Free</td>\n",
       "      <td>0</td>\n",
       "      <td>Everyone</td>\n",
       "      <td>Art &amp; Design</td>\n",
       "      <td>January 7, 2018</td>\n",
       "      <td>1.0.0</td>\n",
       "      <td>4.0.3 and up</td>\n",
       "      <td>9.852247</td>\n",
       "      <td>10000</td>\n",
       "      <td>0.0</td>\n",
       "      <td>159</td>\n",
       "      <td>False</td>\n",
       "      <td>5.075174</td>\n",
       "      <td>9.21044</td>\n",
       "    </tr>\n",
       "  </tbody>\n",
       "</table>\n",
       "</div>"
      ],
      "text/plain": [
       "                                              App        Category  Rating  \\\n",
       "0  Photo Editor & Candy Camera & Grid & ScrapBook  ART_AND_DESIGN     4.1   \n",
       "\n",
       "  Reviews Size Installs  Type Price Content Rating        Genres  \\\n",
       "0     159  19M  10,000+  Free     0       Everyone  Art & Design   \n",
       "\n",
       "      Last Updated Current Ver   Android Ver    Size_5  Installs_1  Price_1  \\\n",
       "0  January 7, 2018       1.0.0  4.0.3 and up  9.852247       10000      0.0   \n",
       "\n",
       "   Reviews_1   rgti  Reviews_2  Installs_2  \n",
       "0        159  False   5.075174     9.21044  "
      ]
     },
     "execution_count": 256,
     "metadata": {},
     "output_type": "execute_result"
    }
   ],
   "source": [
    "inp2 = inp1.drop(columns = ['Size_1','Size_2','Size_3','Size_4'])\n",
    "inp2.head(1)"
   ]
  },
  {
   "cell_type": "markdown",
   "id": "e82fe241",
   "metadata": {},
   "source": [
    "Drop columns App, Last Updated, Current Ver, and Android Ver. These variables are not useful for our task."
   ]
  },
  {
   "cell_type": "code",
   "execution_count": 257,
   "id": "7e994bc0",
   "metadata": {},
   "outputs": [],
   "source": [
    "inp3 = inp2.rename(columns={'Size_5':'Size','Price_1':'Price','Reviews_2':'Reviews','Installs_2':'Installs'})"
   ]
  },
  {
   "cell_type": "code",
   "execution_count": 258,
   "id": "6418ba94",
   "metadata": {},
   "outputs": [
    {
     "data": {
      "text/plain": [
       "App                  0\n",
       "Category             0\n",
       "Rating            1463\n",
       "Reviews              0\n",
       "Size                 0\n",
       "Installs             0\n",
       "Type                 0\n",
       "Price                0\n",
       "Content Rating       0\n",
       "Genres               0\n",
       "Last Updated         0\n",
       "Current Ver          0\n",
       "Android Ver          0\n",
       "Size                 0\n",
       "Installs_1           0\n",
       "Price                0\n",
       "Reviews_1            0\n",
       "rgti                 0\n",
       "Reviews              0\n",
       "Installs             0\n",
       "dtype: int64"
      ]
     },
     "execution_count": 258,
     "metadata": {},
     "output_type": "execute_result"
    }
   ],
   "source": [
    "inp3.isnull().sum()"
   ]
  },
  {
   "cell_type": "code",
   "execution_count": 259,
   "id": "31457501",
   "metadata": {},
   "outputs": [],
   "source": [
    "inp3=inp3.dropna()"
   ]
  },
  {
   "cell_type": "code",
   "execution_count": 260,
   "id": "8b9b39dc",
   "metadata": {},
   "outputs": [
    {
     "data": {
      "text/plain": [
       "App                object\n",
       "Category           object\n",
       "Rating            float64\n",
       "Reviews            object\n",
       "Size               object\n",
       "Installs           object\n",
       "Type               object\n",
       "Price              object\n",
       "Content Rating     object\n",
       "Genres             object\n",
       "Last Updated       object\n",
       "Current Ver        object\n",
       "Android Ver        object\n",
       "Size              float64\n",
       "Installs_1          int32\n",
       "Price             float64\n",
       "Reviews_1           int32\n",
       "rgti                 bool\n",
       "Reviews           float64\n",
       "Installs          float64\n",
       "dtype: object"
      ]
     },
     "execution_count": 260,
     "metadata": {},
     "output_type": "execute_result"
    }
   ],
   "source": [
    "inp3.dtypes"
   ]
  },
  {
   "cell_type": "code",
   "execution_count": 261,
   "id": "6de68ca5",
   "metadata": {},
   "outputs": [
    {
     "data": {
      "text/plain": [
       "FAMILY                 1586\n",
       "TOOLS                   652\n",
       "GAME                    569\n",
       "MEDICAL                 459\n",
       "BUSINESS                409\n",
       "LIFESTYLE               332\n",
       "FINANCE                 311\n",
       "PERSONALIZATION         310\n",
       "PRODUCTIVITY            286\n",
       "SPORTS                  263\n",
       "HEALTH_AND_FITNESS      253\n",
       "NEWS_AND_MAGAZINES      225\n",
       "COMMUNICATION           220\n",
       "DATING                  208\n",
       "BOOKS_AND_REFERENCE     189\n",
       "SOCIAL                  173\n",
       "TRAVEL_AND_LOCAL        168\n",
       "PHOTOGRAPHY             163\n",
       "SHOPPING                144\n",
       "VIDEO_PLAYERS           113\n",
       "MAPS_AND_NAVIGATION     103\n",
       "EDUCATION               100\n",
       "FOOD_AND_DRINK           97\n",
       "AUTO_AND_VEHICLES        80\n",
       "LIBRARIES_AND_DEMO       78\n",
       "HOUSE_AND_HOME           72\n",
       "ENTERTAINMENT            68\n",
       "EVENTS                   62\n",
       "PARENTING                58\n",
       "WEATHER                  58\n",
       "ART_AND_DESIGN           55\n",
       "COMICS                   54\n",
       "BEAUTY                   51\n",
       "Name: Category, dtype: int64"
      ]
     },
     "execution_count": 261,
     "metadata": {},
     "output_type": "execute_result"
    }
   ],
   "source": [
    "inp1['Category'].value_counts()"
   ]
  },
  {
   "cell_type": "code",
   "execution_count": 262,
   "id": "1f3faf13",
   "metadata": {},
   "outputs": [],
   "source": [
    "categories_to_combine = ['BOOKS_AND_REFERENCE','LIBRARIES_AND_DEMO','NEWS_AND_MAGAZINES','EDUCATION','COMICS']\n",
    "for cat in categories_to_combine:\n",
    " inp1['Category'].replace({cat:'BOOKS_AND_EDUCATION'},inplace = True)"
   ]
  },
  {
   "cell_type": "code",
   "execution_count": 263,
   "id": "515cae98",
   "metadata": {},
   "outputs": [],
   "source": [
    "categories_to_combine = ['MEDICAL','LIFESTYLE','HEALTH_AND_FITNESS','SPORTS','BEAUTY']\n",
    "for cat1 in categories_to_combine:\n",
    " inp1['Category'].replace({cat1:'HEALTH_AND_FITNESS'},inplace = True)"
   ]
  },
  {
   "cell_type": "code",
   "execution_count": 60,
   "id": "56cff3e1",
   "metadata": {},
   "outputs": [],
   "source": [
    "categories_to_combine = ['DATING','SOCIAL','EVENTS','COMMUNICATION','FAMILY','PARENTING']\n",
    "for cat2 in categories_to_combine:\n",
    " inp1['Category'].replace({cat2:'SOCIAL'},inplace = True)"
   ]
  },
  {
   "cell_type": "code",
   "execution_count": 264,
   "id": "bc2b8a36",
   "metadata": {},
   "outputs": [],
   "source": [
    "categories_to_combine = ['GAME','VIDEO_PLAYERS','ENTERTAINMENT']\n",
    "for cat3 in categories_to_combine:\n",
    " inp1['Category'].replace({cat3:'ENTERTAINMENT'},inplace = True)"
   ]
  },
  {
   "cell_type": "code",
   "execution_count": 265,
   "id": "018d0a8a",
   "metadata": {},
   "outputs": [],
   "source": [
    "categories_to_combine = ['BUSINESS','FINANCE','PRODUCTIVITY']\n",
    "for cat4 in categories_to_combine:\n",
    " inp1['Category'].replace({cat4:'BUSINESS'},inplace = True)"
   ]
  },
  {
   "cell_type": "code",
   "execution_count": 63,
   "id": "d159dfad",
   "metadata": {},
   "outputs": [],
   "source": [
    "categories_to_combine = ['MAPS_AND_NAVIGATION','TRAVEL_AND_LOCAL','FOOD_AND_DRINK','SHOPPING']\n",
    "for cat5 in categories_to_combine:\n",
    " inp1['Category'].replace({cat5:'MAPS_AND_NAVIGATION'},inplace = True)"
   ]
  },
  {
   "cell_type": "code",
   "execution_count": 266,
   "id": "b20783b6",
   "metadata": {},
   "outputs": [],
   "source": [
    "categories_to_combine = ['PHOTOGRAPHY','ART_AND_DESIGN','HOUSE_AND_HOME','AUTO_AND_VEHICLES']\n",
    "for cat6 in categories_to_combine:\n",
    " inp1['Category'].replace({cat6:'HOBBIES'},inplace = True)"
   ]
  },
  {
   "cell_type": "code",
   "execution_count": 267,
   "id": "ff83cbd5",
   "metadata": {},
   "outputs": [
    {
     "data": {
      "text/plain": [
       "FAMILY                 1586\n",
       "HEALTH_AND_FITNESS     1358\n",
       "BUSINESS               1006\n",
       "ENTERTAINMENT           750\n",
       "TOOLS                   652\n",
       "BOOKS_AND_EDUCATION     646\n",
       "HOBBIES                 370\n",
       "PERSONALIZATION         310\n",
       "COMMUNICATION           220\n",
       "DATING                  208\n",
       "SOCIAL                  173\n",
       "TRAVEL_AND_LOCAL        168\n",
       "SHOPPING                144\n",
       "MAPS_AND_NAVIGATION     103\n",
       "FOOD_AND_DRINK           97\n",
       "EVENTS                   62\n",
       "PARENTING                58\n",
       "WEATHER                  58\n",
       "Name: Category, dtype: int64"
      ]
     },
     "execution_count": 267,
     "metadata": {},
     "output_type": "execute_result"
    }
   ],
   "source": [
    "inp1['Category'].value_counts()"
   ]
  },
  {
   "cell_type": "code",
   "execution_count": 268,
   "id": "cb254c77",
   "metadata": {},
   "outputs": [
    {
     "data": {
      "text/plain": [
       "Tools                          652\n",
       "Education                      497\n",
       "Entertainment                  494\n",
       "Medical                        459\n",
       "Business                       409\n",
       "                              ... \n",
       "Music & Audio;Music & Video      1\n",
       "Health & Fitness;Education       1\n",
       "Parenting;Brain Games            1\n",
       "Board;Pretend Play               1\n",
       "Strategy;Creativity              1\n",
       "Name: Genres, Length: 112, dtype: int64"
      ]
     },
     "execution_count": 268,
     "metadata": {},
     "output_type": "execute_result"
    }
   ],
   "source": [
    "inp1['Genres'].value_counts()"
   ]
  },
  {
   "cell_type": "code",
   "execution_count": 269,
   "id": "7e9db7e2",
   "metadata": {},
   "outputs": [],
   "source": [
    "categories_to_combine=['Books & Reference','Books & Reference;Creativity','Books & Reference;Education','Libraries & Demo','News & Magazines','Education;Education','Education','Education;Creativity','Education;Music & Video','Education;Action & Adventure','Education;Pretend Play','Education;Brain Games','Simulation;Education','Educational;Creativity','Educational;Education','Educational;Brain Games','Educational;Pretend Play','Entertainment;Education','Casual;Education','Educational;Action & Adventure','Health & Fitness;Education','Adventure;Education','Tools;Education','Parenting;Education','Educational','Trivia;Education','Lifestyle;Education','Books & Reference;Education','Puzzle;Education','Role Playing;Education','Strategy;Education','Comics','Comics;Creativity']\n",
    "for cat in categories_to_combine:\n",
    " inp1['Genres'].replace({cat:'Books & Education'},inplace = True)\n",
    "categories_to_combine=['Medical','Lifestyle;Pretend Play','Health & Fitness','Health & Fitness;Action & Adventure','Sports','Sports;Action & Adventure','Beauty']\n",
    "for cat1 in categories_to_combine:\n",
    " inp1['Genres'].replace({cat1:'Health & Fitness'},inplace = True)\n",
    "categories_to_combine=['Dating','Social','Events','Communication','Communication;Creativity','Parenting','Parenting;Music & Video','Parenting;Brain Games']\n",
    "for cat2 in categories_to_combine:\n",
    " inp1['Genres'].replace({cat2:'Social'},inplace = True)\n",
    "categories_to_combine=['Action','Simulation','Casual','Arcade','Role Playing','Puzzle','Adventure','Strategy','Racing','Card','Board','Word','Casino','Trivia','Entertainment;Brain Games','Casual;Brain Games','Puzzle;Brain Games','Casual;Pretend Play','Card;Brain Games','Board;Brain Games','Adventure;Brain Games','Role Playing;Brain Games','Arcade;Action & Adventure','Racing;Action & Adventure','Action;Action & Adventure','Casual;Action & Adventure','Simulation;Pretend Play','Simulation;Action & Adventure','Role Playing;Pretend Play','Adventure;Action & Adventure','Arcade;Action & Adventure','Racing;Action & Adventure','Action;Action & Adventure','Casual;Action & Adventure','Simulation;Pretend Play','Simulation;Action & Adventure','Role Playing;Pretend Play','Adventure;Action & Adventure','Role Playing;Action & Adventure','Puzzle;Creativity','Strategy;Action & Adventure','Board;Action & Adventure','Casual;Creativity','Board;Pretend Play','Racing;Pretend Play','Arcade;Pretend Play','Card;Action & Adventure','Strategy;Creativity','Puzzle;Action & Adventure','Video Players & Editors;Creativity','Video Players & Editors','Video Players & Editors;Music & Video','Entertainment','Entertainment;Music & Video','Entertainment;Creativity','Entertainment;Action & Adventure','Entertainment;Pretend Play','Music;Music & Video','Music & Audio;Music & Video','Music']\n",
    "for cat3 in categories_to_combine:\n",
    " inp1['Genres'].replace({cat3:'Entertainment'},inplace = True)\n",
    "categories_to_combine=['Business','Finance','Productivity']\n",
    "for cat4 in categories_to_combine:\n",
    " inp1['Genres'].replace({cat4:'Business'},inplace = True)\n",
    "categories_to_combine=['Maps & Navigation','Travel & Local','Travel & Local;Action & Adventure','Food & Drink','Shopping']\n",
    "for cat5 in categories_to_combine:\n",
    " inp1['Genres'].replace({cat5:'Maps & Navigation'},inplace = True)\n",
    "categories_to_combine=['Photography','Art & Design','Art & Design;Pretend Play','Art & Design;Creativity','Art & Design;Action & Adventure','House & Home','Auto & Vehicles']\n",
    "for cat6 in categories_to_combine:\n",
    " inp1['Genres'].replace({cat6:'Hobbies'},inplace = True)"
   ]
  },
  {
   "cell_type": "code",
   "execution_count": 270,
   "id": "323a881a",
   "metadata": {},
   "outputs": [
    {
     "data": {
      "text/plain": [
       "Entertainment        1754\n",
       "Books & Education    1225\n",
       "Health & Fitness     1031\n",
       "Business             1006\n",
       "Social                715\n",
       "Tools                 652\n",
       "Maps & Navigation     512\n",
       "Hobbies               374\n",
       "Lifestyle             332\n",
       "Personalization       310\n",
       "Weather                58\n",
       "Name: Genres, dtype: int64"
      ]
     },
     "execution_count": 270,
     "metadata": {},
     "output_type": "execute_result"
    }
   ],
   "source": [
    "inp1['Genres'].value_counts()"
   ]
  },
  {
   "cell_type": "code",
   "execution_count": 271,
   "id": "d1036aaf",
   "metadata": {},
   "outputs": [
    {
     "data": {
      "text/plain": [
       "Everyone           6634\n",
       "Teen                749\n",
       "Mature 17+          352\n",
       "Everyone 10+        229\n",
       "Adults only 18+       3\n",
       "Unrated               2\n",
       "Name: Content Rating, dtype: int64"
      ]
     },
     "execution_count": 271,
     "metadata": {},
     "output_type": "execute_result"
    }
   ],
   "source": [
    "inp1['Content Rating'].value_counts()"
   ]
  },
  {
   "cell_type": "code",
   "execution_count": 272,
   "id": "7eb8b981",
   "metadata": {},
   "outputs": [
    {
     "data": {
      "text/html": [
       "<div>\n",
       "<style scoped>\n",
       "    .dataframe tbody tr th:only-of-type {\n",
       "        vertical-align: middle;\n",
       "    }\n",
       "\n",
       "    .dataframe tbody tr th {\n",
       "        vertical-align: top;\n",
       "    }\n",
       "\n",
       "    .dataframe thead th {\n",
       "        text-align: right;\n",
       "    }\n",
       "</style>\n",
       "<table border=\"1\" class=\"dataframe\">\n",
       "  <thead>\n",
       "    <tr style=\"text-align: right;\">\n",
       "      <th></th>\n",
       "      <th>App</th>\n",
       "      <th>Category</th>\n",
       "      <th>Rating</th>\n",
       "      <th>Reviews</th>\n",
       "      <th>Size</th>\n",
       "      <th>Installs</th>\n",
       "      <th>Type</th>\n",
       "      <th>Price</th>\n",
       "      <th>Content Rating</th>\n",
       "      <th>Genres</th>\n",
       "      <th>Last Updated</th>\n",
       "      <th>Current Ver</th>\n",
       "      <th>Android Ver</th>\n",
       "      <th>Size</th>\n",
       "      <th>Installs_1</th>\n",
       "      <th>Price</th>\n",
       "      <th>Reviews_1</th>\n",
       "      <th>rgti</th>\n",
       "      <th>Reviews</th>\n",
       "      <th>Installs</th>\n",
       "    </tr>\n",
       "  </thead>\n",
       "  <tbody>\n",
       "    <tr>\n",
       "      <th>0</th>\n",
       "      <td>Photo Editor &amp; Candy Camera &amp; Grid &amp; ScrapBook</td>\n",
       "      <td>ART_AND_DESIGN</td>\n",
       "      <td>4.1</td>\n",
       "      <td>159</td>\n",
       "      <td>19M</td>\n",
       "      <td>10,000+</td>\n",
       "      <td>Free</td>\n",
       "      <td>0</td>\n",
       "      <td>Everyone</td>\n",
       "      <td>Art &amp; Design</td>\n",
       "      <td>January 7, 2018</td>\n",
       "      <td>1.0.0</td>\n",
       "      <td>4.0.3 and up</td>\n",
       "      <td>9.852247</td>\n",
       "      <td>10000</td>\n",
       "      <td>0.0</td>\n",
       "      <td>159</td>\n",
       "      <td>False</td>\n",
       "      <td>5.075174</td>\n",
       "      <td>9.210440</td>\n",
       "    </tr>\n",
       "    <tr>\n",
       "      <th>1</th>\n",
       "      <td>Coloring book moana</td>\n",
       "      <td>ART_AND_DESIGN</td>\n",
       "      <td>3.9</td>\n",
       "      <td>967</td>\n",
       "      <td>14M</td>\n",
       "      <td>500,000+</td>\n",
       "      <td>Free</td>\n",
       "      <td>0</td>\n",
       "      <td>Everyone</td>\n",
       "      <td>Art &amp; Design;Pretend Play</td>\n",
       "      <td>January 15, 2018</td>\n",
       "      <td>2.0.0</td>\n",
       "      <td>4.0.3 and up</td>\n",
       "      <td>9.546884</td>\n",
       "      <td>500000</td>\n",
       "      <td>0.0</td>\n",
       "      <td>967</td>\n",
       "      <td>False</td>\n",
       "      <td>6.875232</td>\n",
       "      <td>13.122365</td>\n",
       "    </tr>\n",
       "    <tr>\n",
       "      <th>4</th>\n",
       "      <td>Pixel Draw - Number Art Coloring Book</td>\n",
       "      <td>ART_AND_DESIGN</td>\n",
       "      <td>4.3</td>\n",
       "      <td>967</td>\n",
       "      <td>2.8M</td>\n",
       "      <td>100,000+</td>\n",
       "      <td>Free</td>\n",
       "      <td>0</td>\n",
       "      <td>Everyone</td>\n",
       "      <td>Art &amp; Design;Creativity</td>\n",
       "      <td>June 20, 2018</td>\n",
       "      <td>1.1</td>\n",
       "      <td>4.4 and up</td>\n",
       "      <td>7.937732</td>\n",
       "      <td>100000</td>\n",
       "      <td>0.0</td>\n",
       "      <td>967</td>\n",
       "      <td>False</td>\n",
       "      <td>6.875232</td>\n",
       "      <td>11.512935</td>\n",
       "    </tr>\n",
       "    <tr>\n",
       "      <th>5</th>\n",
       "      <td>Paper flowers instructions</td>\n",
       "      <td>ART_AND_DESIGN</td>\n",
       "      <td>4.4</td>\n",
       "      <td>167</td>\n",
       "      <td>5.6M</td>\n",
       "      <td>50,000+</td>\n",
       "      <td>Free</td>\n",
       "      <td>0</td>\n",
       "      <td>Everyone</td>\n",
       "      <td>Art &amp; Design</td>\n",
       "      <td>March 26, 2017</td>\n",
       "      <td>1.0</td>\n",
       "      <td>2.3 and up</td>\n",
       "      <td>8.630700</td>\n",
       "      <td>50000</td>\n",
       "      <td>0.0</td>\n",
       "      <td>167</td>\n",
       "      <td>False</td>\n",
       "      <td>5.123964</td>\n",
       "      <td>10.819798</td>\n",
       "    </tr>\n",
       "    <tr>\n",
       "      <th>6</th>\n",
       "      <td>Smoke Effect Photo Maker - Smoke Editor</td>\n",
       "      <td>ART_AND_DESIGN</td>\n",
       "      <td>3.8</td>\n",
       "      <td>178</td>\n",
       "      <td>19M</td>\n",
       "      <td>50,000+</td>\n",
       "      <td>Free</td>\n",
       "      <td>0</td>\n",
       "      <td>Everyone</td>\n",
       "      <td>Art &amp; Design</td>\n",
       "      <td>April 26, 2018</td>\n",
       "      <td>1.1</td>\n",
       "      <td>4.0.3 and up</td>\n",
       "      <td>9.852247</td>\n",
       "      <td>50000</td>\n",
       "      <td>0.0</td>\n",
       "      <td>178</td>\n",
       "      <td>False</td>\n",
       "      <td>5.187386</td>\n",
       "      <td>10.819798</td>\n",
       "    </tr>\n",
       "    <tr>\n",
       "      <th>...</th>\n",
       "      <td>...</td>\n",
       "      <td>...</td>\n",
       "      <td>...</td>\n",
       "      <td>...</td>\n",
       "      <td>...</td>\n",
       "      <td>...</td>\n",
       "      <td>...</td>\n",
       "      <td>...</td>\n",
       "      <td>...</td>\n",
       "      <td>...</td>\n",
       "      <td>...</td>\n",
       "      <td>...</td>\n",
       "      <td>...</td>\n",
       "      <td>...</td>\n",
       "      <td>...</td>\n",
       "      <td>...</td>\n",
       "      <td>...</td>\n",
       "      <td>...</td>\n",
       "      <td>...</td>\n",
       "      <td>...</td>\n",
       "    </tr>\n",
       "    <tr>\n",
       "      <th>10833</th>\n",
       "      <td>Chemin (fr)</td>\n",
       "      <td>BOOKS_AND_REFERENCE</td>\n",
       "      <td>4.8</td>\n",
       "      <td>44</td>\n",
       "      <td>619k</td>\n",
       "      <td>1,000+</td>\n",
       "      <td>Free</td>\n",
       "      <td>0</td>\n",
       "      <td>Everyone</td>\n",
       "      <td>Books &amp; Reference</td>\n",
       "      <td>March 23, 2014</td>\n",
       "      <td>0.8</td>\n",
       "      <td>2.2 and up</td>\n",
       "      <td>10.011512</td>\n",
       "      <td>1000</td>\n",
       "      <td>0.0</td>\n",
       "      <td>44</td>\n",
       "      <td>False</td>\n",
       "      <td>3.806662</td>\n",
       "      <td>6.908755</td>\n",
       "    </tr>\n",
       "    <tr>\n",
       "      <th>10834</th>\n",
       "      <td>FR Calculator</td>\n",
       "      <td>FAMILY</td>\n",
       "      <td>4.0</td>\n",
       "      <td>7</td>\n",
       "      <td>2.6M</td>\n",
       "      <td>500+</td>\n",
       "      <td>Free</td>\n",
       "      <td>0</td>\n",
       "      <td>Everyone</td>\n",
       "      <td>Education</td>\n",
       "      <td>June 18, 2017</td>\n",
       "      <td>1.0.0</td>\n",
       "      <td>4.1 and up</td>\n",
       "      <td>7.863651</td>\n",
       "      <td>500</td>\n",
       "      <td>0.0</td>\n",
       "      <td>7</td>\n",
       "      <td>False</td>\n",
       "      <td>2.079442</td>\n",
       "      <td>6.216606</td>\n",
       "    </tr>\n",
       "    <tr>\n",
       "      <th>10836</th>\n",
       "      <td>Sya9a Maroc - FR</td>\n",
       "      <td>FAMILY</td>\n",
       "      <td>4.5</td>\n",
       "      <td>38</td>\n",
       "      <td>53M</td>\n",
       "      <td>5,000+</td>\n",
       "      <td>Free</td>\n",
       "      <td>0</td>\n",
       "      <td>Everyone</td>\n",
       "      <td>Education</td>\n",
       "      <td>July 25, 2017</td>\n",
       "      <td>1.48</td>\n",
       "      <td>4.1 and up</td>\n",
       "      <td>10.878066</td>\n",
       "      <td>5000</td>\n",
       "      <td>0.0</td>\n",
       "      <td>38</td>\n",
       "      <td>False</td>\n",
       "      <td>3.663562</td>\n",
       "      <td>8.517393</td>\n",
       "    </tr>\n",
       "    <tr>\n",
       "      <th>10837</th>\n",
       "      <td>Fr. Mike Schmitz Audio Teachings</td>\n",
       "      <td>FAMILY</td>\n",
       "      <td>5.0</td>\n",
       "      <td>4</td>\n",
       "      <td>3.6M</td>\n",
       "      <td>100+</td>\n",
       "      <td>Free</td>\n",
       "      <td>0</td>\n",
       "      <td>Everyone</td>\n",
       "      <td>Education</td>\n",
       "      <td>July 6, 2018</td>\n",
       "      <td>1.0</td>\n",
       "      <td>4.1 and up</td>\n",
       "      <td>8.188967</td>\n",
       "      <td>100</td>\n",
       "      <td>0.0</td>\n",
       "      <td>4</td>\n",
       "      <td>False</td>\n",
       "      <td>1.609438</td>\n",
       "      <td>4.615121</td>\n",
       "    </tr>\n",
       "    <tr>\n",
       "      <th>10839</th>\n",
       "      <td>The SCP Foundation DB fr nn5n</td>\n",
       "      <td>BOOKS_AND_REFERENCE</td>\n",
       "      <td>4.5</td>\n",
       "      <td>114</td>\n",
       "      <td>Varies with device</td>\n",
       "      <td>1,000+</td>\n",
       "      <td>Free</td>\n",
       "      <td>0</td>\n",
       "      <td>Mature 17+</td>\n",
       "      <td>Books &amp; Reference</td>\n",
       "      <td>January 19, 2015</td>\n",
       "      <td>Varies with device</td>\n",
       "      <td>Varies with device</td>\n",
       "      <td>10.011512</td>\n",
       "      <td>1000</td>\n",
       "      <td>0.0</td>\n",
       "      <td>114</td>\n",
       "      <td>False</td>\n",
       "      <td>4.744932</td>\n",
       "      <td>6.908755</td>\n",
       "    </tr>\n",
       "  </tbody>\n",
       "</table>\n",
       "<p>6506 rows × 20 columns</p>\n",
       "</div>"
      ],
      "text/plain": [
       "                                                  App             Category  \\\n",
       "0      Photo Editor & Candy Camera & Grid & ScrapBook       ART_AND_DESIGN   \n",
       "1                                 Coloring book moana       ART_AND_DESIGN   \n",
       "4               Pixel Draw - Number Art Coloring Book       ART_AND_DESIGN   \n",
       "5                          Paper flowers instructions       ART_AND_DESIGN   \n",
       "6             Smoke Effect Photo Maker - Smoke Editor       ART_AND_DESIGN   \n",
       "...                                               ...                  ...   \n",
       "10833                                     Chemin (fr)  BOOKS_AND_REFERENCE   \n",
       "10834                                   FR Calculator               FAMILY   \n",
       "10836                                Sya9a Maroc - FR               FAMILY   \n",
       "10837                Fr. Mike Schmitz Audio Teachings               FAMILY   \n",
       "10839                   The SCP Foundation DB fr nn5n  BOOKS_AND_REFERENCE   \n",
       "\n",
       "       Rating  Reviews                Size  Installs  Type  Price  \\\n",
       "0         4.1      159                 19M   10,000+  Free      0   \n",
       "1         3.9      967                 14M  500,000+  Free      0   \n",
       "4         4.3      967                2.8M  100,000+  Free      0   \n",
       "5         4.4      167                5.6M   50,000+  Free      0   \n",
       "6         3.8      178                 19M   50,000+  Free      0   \n",
       "...       ...      ...                 ...       ...   ...    ...   \n",
       "10833     4.8       44                619k    1,000+  Free      0   \n",
       "10834     4.0        7                2.6M      500+  Free      0   \n",
       "10836     4.5       38                 53M    5,000+  Free      0   \n",
       "10837     5.0        4                3.6M      100+  Free      0   \n",
       "10839     4.5      114  Varies with device    1,000+  Free      0   \n",
       "\n",
       "      Content Rating                     Genres      Last Updated  \\\n",
       "0           Everyone               Art & Design   January 7, 2018   \n",
       "1           Everyone  Art & Design;Pretend Play  January 15, 2018   \n",
       "4           Everyone    Art & Design;Creativity     June 20, 2018   \n",
       "5           Everyone               Art & Design    March 26, 2017   \n",
       "6           Everyone               Art & Design    April 26, 2018   \n",
       "...              ...                        ...               ...   \n",
       "10833       Everyone          Books & Reference    March 23, 2014   \n",
       "10834       Everyone                  Education     June 18, 2017   \n",
       "10836       Everyone                  Education     July 25, 2017   \n",
       "10837       Everyone                  Education      July 6, 2018   \n",
       "10839     Mature 17+          Books & Reference  January 19, 2015   \n",
       "\n",
       "              Current Ver         Android Ver       Size  Installs_1  Price  \\\n",
       "0                   1.0.0        4.0.3 and up   9.852247       10000    0.0   \n",
       "1                   2.0.0        4.0.3 and up   9.546884      500000    0.0   \n",
       "4                     1.1          4.4 and up   7.937732      100000    0.0   \n",
       "5                     1.0          2.3 and up   8.630700       50000    0.0   \n",
       "6                     1.1        4.0.3 and up   9.852247       50000    0.0   \n",
       "...                   ...                 ...        ...         ...    ...   \n",
       "10833                 0.8          2.2 and up  10.011512        1000    0.0   \n",
       "10834               1.0.0          4.1 and up   7.863651         500    0.0   \n",
       "10836                1.48          4.1 and up  10.878066        5000    0.0   \n",
       "10837                 1.0          4.1 and up   8.188967         100    0.0   \n",
       "10839  Varies with device  Varies with device  10.011512        1000    0.0   \n",
       "\n",
       "       Reviews_1   rgti   Reviews   Installs  \n",
       "0            159  False  5.075174   9.210440  \n",
       "1            967  False  6.875232  13.122365  \n",
       "4            967  False  6.875232  11.512935  \n",
       "5            167  False  5.123964  10.819798  \n",
       "6            178  False  5.187386  10.819798  \n",
       "...          ...    ...       ...        ...  \n",
       "10833         44  False  3.806662   6.908755  \n",
       "10834          7  False  2.079442   6.216606  \n",
       "10836         38  False  3.663562   8.517393  \n",
       "10837          4  False  1.609438   4.615121  \n",
       "10839        114  False  4.744932   6.908755  \n",
       "\n",
       "[6506 rows x 20 columns]"
      ]
     },
     "execution_count": 272,
     "metadata": {},
     "output_type": "execute_result"
    }
   ],
   "source": [
    "inp3"
   ]
  },
  {
   "cell_type": "code",
   "execution_count": 273,
   "id": "69e081c5",
   "metadata": {},
   "outputs": [],
   "source": [
    "inp3.drop_duplicates(subset='App', inplace=True)"
   ]
  },
  {
   "cell_type": "code",
   "execution_count": 274,
   "id": "0cbd95f6",
   "metadata": {},
   "outputs": [
    {
     "data": {
      "text/html": [
       "<div>\n",
       "<style scoped>\n",
       "    .dataframe tbody tr th:only-of-type {\n",
       "        vertical-align: middle;\n",
       "    }\n",
       "\n",
       "    .dataframe tbody tr th {\n",
       "        vertical-align: top;\n",
       "    }\n",
       "\n",
       "    .dataframe thead th {\n",
       "        text-align: right;\n",
       "    }\n",
       "</style>\n",
       "<table border=\"1\" class=\"dataframe\">\n",
       "  <thead>\n",
       "    <tr style=\"text-align: right;\">\n",
       "      <th></th>\n",
       "      <th>App</th>\n",
       "      <th>Category</th>\n",
       "      <th>Rating</th>\n",
       "      <th>Reviews</th>\n",
       "      <th>Size</th>\n",
       "      <th>Installs</th>\n",
       "      <th>Type</th>\n",
       "      <th>Price</th>\n",
       "      <th>Content Rating</th>\n",
       "      <th>Genres</th>\n",
       "      <th>Last Updated</th>\n",
       "      <th>Current Ver</th>\n",
       "      <th>Android Ver</th>\n",
       "      <th>Size</th>\n",
       "      <th>Installs_1</th>\n",
       "      <th>Price</th>\n",
       "      <th>Reviews_1</th>\n",
       "      <th>rgti</th>\n",
       "      <th>Reviews</th>\n",
       "      <th>Installs</th>\n",
       "    </tr>\n",
       "  </thead>\n",
       "  <tbody>\n",
       "    <tr>\n",
       "      <th>0</th>\n",
       "      <td>Photo Editor &amp; Candy Camera &amp; Grid &amp; ScrapBook</td>\n",
       "      <td>ART_AND_DESIGN</td>\n",
       "      <td>4.1</td>\n",
       "      <td>159</td>\n",
       "      <td>19M</td>\n",
       "      <td>10,000+</td>\n",
       "      <td>Free</td>\n",
       "      <td>0</td>\n",
       "      <td>Everyone</td>\n",
       "      <td>Art &amp; Design</td>\n",
       "      <td>January 7, 2018</td>\n",
       "      <td>1.0.0</td>\n",
       "      <td>4.0.3 and up</td>\n",
       "      <td>9.852247</td>\n",
       "      <td>10000</td>\n",
       "      <td>0.0</td>\n",
       "      <td>159</td>\n",
       "      <td>False</td>\n",
       "      <td>5.075174</td>\n",
       "      <td>9.210440</td>\n",
       "    </tr>\n",
       "    <tr>\n",
       "      <th>1</th>\n",
       "      <td>Coloring book moana</td>\n",
       "      <td>ART_AND_DESIGN</td>\n",
       "      <td>3.9</td>\n",
       "      <td>967</td>\n",
       "      <td>14M</td>\n",
       "      <td>500,000+</td>\n",
       "      <td>Free</td>\n",
       "      <td>0</td>\n",
       "      <td>Everyone</td>\n",
       "      <td>Art &amp; Design;Pretend Play</td>\n",
       "      <td>January 15, 2018</td>\n",
       "      <td>2.0.0</td>\n",
       "      <td>4.0.3 and up</td>\n",
       "      <td>9.546884</td>\n",
       "      <td>500000</td>\n",
       "      <td>0.0</td>\n",
       "      <td>967</td>\n",
       "      <td>False</td>\n",
       "      <td>6.875232</td>\n",
       "      <td>13.122365</td>\n",
       "    </tr>\n",
       "    <tr>\n",
       "      <th>4</th>\n",
       "      <td>Pixel Draw - Number Art Coloring Book</td>\n",
       "      <td>ART_AND_DESIGN</td>\n",
       "      <td>4.3</td>\n",
       "      <td>967</td>\n",
       "      <td>2.8M</td>\n",
       "      <td>100,000+</td>\n",
       "      <td>Free</td>\n",
       "      <td>0</td>\n",
       "      <td>Everyone</td>\n",
       "      <td>Art &amp; Design;Creativity</td>\n",
       "      <td>June 20, 2018</td>\n",
       "      <td>1.1</td>\n",
       "      <td>4.4 and up</td>\n",
       "      <td>7.937732</td>\n",
       "      <td>100000</td>\n",
       "      <td>0.0</td>\n",
       "      <td>967</td>\n",
       "      <td>False</td>\n",
       "      <td>6.875232</td>\n",
       "      <td>11.512935</td>\n",
       "    </tr>\n",
       "    <tr>\n",
       "      <th>5</th>\n",
       "      <td>Paper flowers instructions</td>\n",
       "      <td>ART_AND_DESIGN</td>\n",
       "      <td>4.4</td>\n",
       "      <td>167</td>\n",
       "      <td>5.6M</td>\n",
       "      <td>50,000+</td>\n",
       "      <td>Free</td>\n",
       "      <td>0</td>\n",
       "      <td>Everyone</td>\n",
       "      <td>Art &amp; Design</td>\n",
       "      <td>March 26, 2017</td>\n",
       "      <td>1.0</td>\n",
       "      <td>2.3 and up</td>\n",
       "      <td>8.630700</td>\n",
       "      <td>50000</td>\n",
       "      <td>0.0</td>\n",
       "      <td>167</td>\n",
       "      <td>False</td>\n",
       "      <td>5.123964</td>\n",
       "      <td>10.819798</td>\n",
       "    </tr>\n",
       "    <tr>\n",
       "      <th>6</th>\n",
       "      <td>Smoke Effect Photo Maker - Smoke Editor</td>\n",
       "      <td>ART_AND_DESIGN</td>\n",
       "      <td>3.8</td>\n",
       "      <td>178</td>\n",
       "      <td>19M</td>\n",
       "      <td>50,000+</td>\n",
       "      <td>Free</td>\n",
       "      <td>0</td>\n",
       "      <td>Everyone</td>\n",
       "      <td>Art &amp; Design</td>\n",
       "      <td>April 26, 2018</td>\n",
       "      <td>1.1</td>\n",
       "      <td>4.0.3 and up</td>\n",
       "      <td>9.852247</td>\n",
       "      <td>50000</td>\n",
       "      <td>0.0</td>\n",
       "      <td>178</td>\n",
       "      <td>False</td>\n",
       "      <td>5.187386</td>\n",
       "      <td>10.819798</td>\n",
       "    </tr>\n",
       "  </tbody>\n",
       "</table>\n",
       "</div>"
      ],
      "text/plain": [
       "                                              App        Category  Rating  \\\n",
       "0  Photo Editor & Candy Camera & Grid & ScrapBook  ART_AND_DESIGN     4.1   \n",
       "1                             Coloring book moana  ART_AND_DESIGN     3.9   \n",
       "4           Pixel Draw - Number Art Coloring Book  ART_AND_DESIGN     4.3   \n",
       "5                      Paper flowers instructions  ART_AND_DESIGN     4.4   \n",
       "6         Smoke Effect Photo Maker - Smoke Editor  ART_AND_DESIGN     3.8   \n",
       "\n",
       "   Reviews  Size  Installs  Type  Price Content Rating  \\\n",
       "0      159   19M   10,000+  Free      0       Everyone   \n",
       "1      967   14M  500,000+  Free      0       Everyone   \n",
       "4      967  2.8M  100,000+  Free      0       Everyone   \n",
       "5      167  5.6M   50,000+  Free      0       Everyone   \n",
       "6      178   19M   50,000+  Free      0       Everyone   \n",
       "\n",
       "                      Genres      Last Updated Current Ver   Android Ver  \\\n",
       "0               Art & Design   January 7, 2018       1.0.0  4.0.3 and up   \n",
       "1  Art & Design;Pretend Play  January 15, 2018       2.0.0  4.0.3 and up   \n",
       "4    Art & Design;Creativity     June 20, 2018         1.1    4.4 and up   \n",
       "5               Art & Design    March 26, 2017         1.0    2.3 and up   \n",
       "6               Art & Design    April 26, 2018         1.1  4.0.3 and up   \n",
       "\n",
       "       Size  Installs_1  Price  Reviews_1   rgti   Reviews   Installs  \n",
       "0  9.852247       10000    0.0        159  False  5.075174   9.210440  \n",
       "1  9.546884      500000    0.0        967  False  6.875232  13.122365  \n",
       "4  7.937732      100000    0.0        967  False  6.875232  11.512935  \n",
       "5  8.630700       50000    0.0        167  False  5.123964  10.819798  \n",
       "6  9.852247       50000    0.0        178  False  5.187386  10.819798  "
      ]
     },
     "execution_count": 274,
     "metadata": {},
     "output_type": "execute_result"
    }
   ],
   "source": [
    "inp3.head()"
   ]
  },
  {
   "cell_type": "markdown",
   "id": "fb1057e2",
   "metadata": {},
   "source": [
    "# Content Based Recommendation "
   ]
  },
  {
   "cell_type": "code",
   "execution_count": 275,
   "id": "5a5df7c5",
   "metadata": {},
   "outputs": [],
   "source": [
    "from   sklearn.feature_extraction.text import CountVectorizer"
   ]
  },
  {
   "cell_type": "code",
   "execution_count": 276,
   "id": "b9b1a648",
   "metadata": {},
   "outputs": [
    {
     "name": "stdout",
     "output_type": "stream",
     "text": [
      "False\n"
     ]
    }
   ],
   "source": [
    "#Checking to see if there are any apps duplicated in the dataset \n",
    "\n",
    "print(any(inp3['App'].duplicated()))"
   ]
  },
  {
   "cell_type": "code",
   "execution_count": 277,
   "id": "d5c11648",
   "metadata": {},
   "outputs": [
    {
     "data": {
      "image/png": "[encoded data removed]",
      "text/plain": [
       "<Figure size 842.4x595.44 with 1 Axes>"
      ]
     },
     "metadata": {},
     "output_type": "display_data"
    }
   ],
   "source": [
    "sns.set(rc={'figure.figsize': (11.7, 8.27)})\n",
    "sns.set_style('whitegrid')\n",
    "ax = sns.countplot(x='Rating', data=df, palette=sns.color_palette('Blues'))\n",
    "ax.set(xlabel='Rating', ylabel='Count')\n",
    "plt.show()"
   ]
  },
  {
   "cell_type": "markdown",
   "id": "9718a0a4",
   "metadata": {},
   "source": [
    "Displaying the rating frequency of the app\n",
    "\n",
    "From the figure above, it shows that most of the apps are within the rating range of 4.0-4.7. This is a relatively high rating range for the apps"
   ]
  },
  {
   "cell_type": "code",
   "execution_count": 279,
   "id": "cf205049",
   "metadata": {},
   "outputs": [
    {
     "name": "stdout",
     "output_type": "stream",
     "text": [
      "4.136260897642881\n"
     ]
    }
   ],
   "source": [
    "#Calculating the mean rating for the apps in the Play Store\n",
    "\n",
    "C = inp3['Rating'].mean()\n",
    "\n",
    "print(C)"
   ]
  },
  {
   "cell_type": "code",
   "execution_count": 280,
   "id": "794b72a4",
   "metadata": {},
   "outputs": [
    {
     "data": {
      "text/plain": [
       "0    ART_AND_DESIGN\n",
       "1    ART_AND_DESIGN\n",
       "4    ART_AND_DESIGN\n",
       "5    ART_AND_DESIGN\n",
       "6    ART_AND_DESIGN\n",
       "Name: Category, dtype: object"
      ]
     },
     "execution_count": 280,
     "metadata": {},
     "output_type": "execute_result"
    }
   ],
   "source": [
    "inp3['Category'].head()"
   ]
  },
  {
   "cell_type": "code",
   "execution_count": 281,
   "id": "7004e506",
   "metadata": {},
   "outputs": [
    {
     "data": {
      "text/plain": [
       "(6194, 33)"
      ]
     },
     "execution_count": 281,
     "metadata": {},
     "output_type": "execute_result"
    }
   ],
   "source": [
    "#Import TfIdfVectorizer from scikit-learn\n",
    "from sklearn.feature_extraction.text import TfidfVectorizer\n",
    "\n",
    "#Define a TF-IDF Vectorizer Object\n",
    "tfidf = TfidfVectorizer(stop_words='english')\n",
    "\n",
    "#Replace NaN with an empty string\n",
    "df['Category'] = inp3['Category'].fillna('')\n",
    "\n",
    "#Construct the required TF-IDF matrix by fitting and transforming the data\n",
    "tfidf_matrix = tfidf.fit_transform(inp3['Category'])\n",
    "\n",
    "#Output the shape of tfidf_matrix\n",
    "tfidf_matrix.shape"
   ]
  },
  {
   "cell_type": "code",
   "execution_count": 282,
   "id": "5fae6e6d",
   "metadata": {},
   "outputs": [],
   "source": [
    "# Import linear_kernel\n",
    "from sklearn.metrics.pairwise import linear_kernel\n",
    "\n",
    "# Compute the cosine similarity matrix\n",
    "cosine_sim = linear_kernel(tfidf_matrix, tfidf_matrix)"
   ]
  },
  {
   "cell_type": "code",
   "execution_count": 284,
   "id": "d614eba1",
   "metadata": {},
   "outputs": [],
   "source": [
    "#Construct a reverse map of indices and app titles\n",
    "indices = pd.Series(inp3.index, index=inp3['App']).drop_duplicates()"
   ]
  },
  {
   "cell_type": "code",
   "execution_count": 285,
   "id": "679eb4ed",
   "metadata": {},
   "outputs": [],
   "source": [
    "# Function that takes in app title as input and outputs most similar app\n",
    "def get_recommendations(app, cosine_sim=cosine_sim):\n",
    "    # Get the index of the app that matches the title\n",
    "    idx=indices[app]\n",
    "\n",
    "    # Get the pairwsie similarity scores of all apps with that app\n",
    "    sim_scores = list(enumerate(cosine_sim[idx]))\n",
    "\n",
    "    # Sort the apps based on the similarity scores\n",
    "    sim_scores = sorted(sim_scores, key=lambda x: x[1], reverse=True)\n",
    "\n",
    "    # Get the scores of the 10 most similar apps\n",
    "    sim_scores = sim_scores[1:26]\n",
    "\n",
    "    # Get the app indices\n",
    "    app_indices = [i[0] for i in sim_scores]\n",
    "\n",
    "    # Return the top 10 most similar apps\n",
    "    return inp3['App'].iloc[app_indices]"
   ]
  },
  {
   "cell_type": "code",
   "execution_count": 286,
   "id": "6776419e",
   "metadata": {},
   "outputs": [
    {
     "data": {
      "text/plain": [
       "1                                 Coloring book moana\n",
       "4               Pixel Draw - Number Art Coloring Book\n",
       "5                          Paper flowers instructions\n",
       "6             Smoke Effect Photo Maker - Smoke Editor\n",
       "7                                    Infinite Painter\n",
       "8                                Garden Coloring Book\n",
       "9                       Kids Paint Free - Drawing Fun\n",
       "10                            Text on Photo - Fonteee\n",
       "11            Name Art Photo Editor - Focus n Filters\n",
       "13                              Mandala Coloring Book\n",
       "14    3D Color Pixel by Number - Sandbox Art Coloring\n",
       "16       Photo Designer - Write your name with shapes\n",
       "17                           350 Diy Room Decor Ideas\n",
       "20                        Logo Maker - Small Business\n",
       "21          Boys Photo Editor - Six Pack & Men's Suit\n",
       "22            Superheroes Wallpapers | 4K Backgrounds\n",
       "24                        HD Mickey Minnie Wallpapers\n",
       "25                         Harley Quinn wallpapers HD\n",
       "26                      Colorfit - Drawing & Coloring\n",
       "27                              Animated Photo Editor\n",
       "28                              Pencil Sketch Drawing\n",
       "29                    Easy Realistic Drawing Tutorial\n",
       "30                     Pink Silver Bow Keyboard Theme\n",
       "31                                  Art Drawing Ideas\n",
       "32                          Anime Manga Coloring Book\n",
       "Name: App, dtype: object"
      ]
     },
     "execution_count": 286,
     "metadata": {},
     "output_type": "execute_result"
    }
   ],
   "source": [
    "get_recommendations('Garden Coloring Book')"
   ]
  },
  {
   "cell_type": "markdown",
   "id": "14b5ecf1",
   "metadata": {},
   "source": [
    "This recommender system retrieves the top 15 apps based on the cosise similarity scores using TF-IDF vectorization. The app 'Garden Coloring Book' which was input, as the name suggests, is an art app. The recommender effectively retrieves apps in the top that mostly belong to art and design category."
   ]
  },
  {
   "cell_type": "code",
   "execution_count": null,
   "id": "5fe4fa81",
   "metadata": {},
   "outputs": [],
   "source": []
  },
  {
   "cell_type": "code",
   "execution_count": null,
   "id": "0f9e7d6b",
   "metadata": {},
   "outputs": [],
   "source": []
  },
  {
   "cell_type": "code",
   "execution_count": null,
   "id": "5633118c",
   "metadata": {},
   "outputs": [],
   "source": []
  }
 ],
 "metadata": {
  "kernelspec": {
   "display_name": "Python 3 (ipykernel)",
   "language": "python",
   "name": "python3"
  },
  "language_info": {
   "codemirror_mode": {
    "name": "ipython",
    "version": 3
   },
   "file_extension": ".py",
   "mimetype": "text/x-python",
   "name": "python",
   "nbconvert_exporter": "python",
   "pygments_lexer": "ipython3",
   "version": "3.9.7"
  }
 },
 "nbformat": 4,
 "nbformat_minor": 5
}
